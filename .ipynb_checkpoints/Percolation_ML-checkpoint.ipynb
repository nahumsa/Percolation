{
 "cells": [
  {
   "cell_type": "code",
   "execution_count": 1,
   "metadata": {},
   "outputs": [],
   "source": [
    "import numpy as np\n",
    "import matplotlib.pyplot as plt\n",
    "import copy as cp\n",
    "import tensorflow as tf\n",
    "from tensorflow import keras\n",
    "\n",
    "def grid(n, prob):\n",
    "    \"\"\"\n",
    "    Construct a grid with dimension n with probability prob\n",
    "    \"\"\"\n",
    "    return np.random.choice([0, 1], size=(n, n), p=[prob, 1-prob])\n",
    "\n"
   ]
  },
  {
   "cell_type": "code",
   "execution_count": 2,
   "metadata": {},
   "outputs": [],
   "source": [
    "def writing_data(samples, n, prob):\n",
    "    \"\"\"\n",
    "    samples: number of samples (int)\n",
    "    n: size of matrix  (odd int)\n",
    "    prob: probability of getting 1 or 0 (0<=prob<=1)\n",
    "    \"\"\"\n",
    "    count = 0.\n",
    "    mat = []\n",
    "    vd = np.zeros(samples)\n",
    "    for ind in range(samples):\n",
    "        b = grid(n, prob)\n",
    "        mat.append(cp.copy(b)) #Used copy to not have 2 on the matrix\n",
    "        b[(n-1)//2][(n-1)//2] = 2\n",
    "        stop = False\n",
    "        while not stop:\n",
    "            change = False\n",
    "            for i, j in zip(*np.where(b == 2)):\n",
    "                if i == 0 or j == 0 or i == n - 1 or j == n - 1:\n",
    "                    count += 1\n",
    "                    stop = True\n",
    "                    vd[ind] = 1\n",
    "                    break\n",
    "                if b[i+1, j] == 0:\n",
    "                    b[i+1, j] = 2\n",
    "                    change = True\n",
    "                if b[i, j+1] == 0:\n",
    "                    b[i, j+1] = 2\n",
    "                    change = True\n",
    "                if b[i-1, j] == 0:\n",
    "                    b[i-1, j] = 2\n",
    "                    change = True\n",
    "                if b[i, j-1] == 0:\n",
    "                    b[i, j-1] = 2\n",
    "                    change = True\n",
    "            if not change:\n",
    "                stop = True\n",
    "    return np.array(mat),vd"
   ]
  },
  {
   "cell_type": "code",
   "execution_count": 3,
   "metadata": {},
   "outputs": [
    {
     "name": "stdout",
     "output_type": "stream",
     "text": [
      "WARNING:tensorflow:From /home/nahum/anaconda2/lib/python2.7/site-packages/tensorflow/python/ops/resource_variable_ops.py:435: colocate_with (from tensorflow.python.framework.ops) is deprecated and will be removed in a future version.\n",
      "Instructions for updating:\n",
      "Colocations handled automatically by placer.\n"
     ]
    }
   ],
   "source": [
    "model = keras.Sequential([\n",
    "    keras.layers.Flatten(input_shape=(11, 11)),\n",
    "    keras.layers.Dense(128, activation=tf.nn.relu),\n",
    "    keras.layers.Dense(128, activation= tf.nn.relu),\n",
    "    keras.layers.Dense(2, activation=tf.nn.softmax)\n",
    "])\n",
    "model.compile(optimizer='adam', \n",
    "              loss='sparse_categorical_crossentropy',\n",
    "              metrics=['accuracy'])"
   ]
  },
  {
   "cell_type": "code",
   "execution_count": 4,
   "metadata": {},
   "outputs": [],
   "source": [
    "#traning data\n",
    "td,tr = writing_data(1000,11,0.5)"
   ]
  },
  {
   "cell_type": "code",
   "execution_count": 5,
   "metadata": {},
   "outputs": [
    {
     "data": {
      "text/plain": [
       "(array([[1, 0, 1, 0, 1, 0, 1, 1, 1, 0, 1],\n",
       "        [1, 1, 0, 1, 1, 1, 0, 1, 0, 0, 0],\n",
       "        [0, 0, 1, 1, 1, 0, 0, 0, 1, 0, 0],\n",
       "        [1, 1, 0, 0, 1, 1, 0, 0, 0, 0, 0],\n",
       "        [1, 0, 0, 0, 1, 1, 0, 1, 1, 1, 1],\n",
       "        [0, 0, 1, 0, 0, 1, 1, 1, 1, 1, 0],\n",
       "        [0, 1, 0, 1, 1, 1, 1, 0, 0, 1, 1],\n",
       "        [1, 1, 1, 0, 1, 0, 0, 1, 0, 1, 0],\n",
       "        [1, 1, 1, 0, 0, 0, 0, 0, 1, 1, 0],\n",
       "        [1, 1, 0, 1, 1, 0, 1, 0, 0, 0, 0],\n",
       "        [1, 0, 1, 1, 1, 0, 0, 0, 0, 0, 1]]), 1.0)"
      ]
     },
     "execution_count": 5,
     "metadata": {},
     "output_type": "execute_result"
    }
   ],
   "source": [
    "#sample of training data\n",
    "td[0], tr[0]"
   ]
  },
  {
   "cell_type": "code",
   "execution_count": 6,
   "metadata": {},
   "outputs": [
    {
     "name": "stdout",
     "output_type": "stream",
     "text": [
      "Epoch 1/10\n",
      "1000/1000 [==============================] - 1s 1ms/sample - loss: 0.6630 - acc: 0.6350\n",
      "Epoch 2/10\n",
      "1000/1000 [==============================] - 0s 89us/sample - loss: 0.5996 - acc: 0.6730\n",
      "Epoch 3/10\n",
      "1000/1000 [==============================] - 0s 102us/sample - loss: 0.5468 - acc: 0.7410\n",
      "Epoch 4/10\n",
      "1000/1000 [==============================] - 0s 88us/sample - loss: 0.4858 - acc: 0.7800\n",
      "Epoch 5/10\n",
      "1000/1000 [==============================] - 0s 82us/sample - loss: 0.4401 - acc: 0.8140\n",
      "Epoch 6/10\n",
      "1000/1000 [==============================] - 0s 73us/sample - loss: 0.3933 - acc: 0.8350\n",
      "Epoch 7/10\n",
      "1000/1000 [==============================] - 0s 79us/sample - loss: 0.3172 - acc: 0.8820\n",
      "Epoch 8/10\n",
      "1000/1000 [==============================] - 0s 81us/sample - loss: 0.2492 - acc: 0.9170\n",
      "Epoch 9/10\n",
      "1000/1000 [==============================] - 0s 75us/sample - loss: 0.1956 - acc: 0.9410\n",
      "Epoch 10/10\n",
      "1000/1000 [==============================] - 0s 85us/sample - loss: 0.1406 - acc: 0.9700\n"
     ]
    },
    {
     "data": {
      "text/plain": [
       "<tensorflow.python.keras.callbacks.History at 0x7ff954460f50>"
      ]
     },
     "execution_count": 6,
     "metadata": {},
     "output_type": "execute_result"
    }
   ],
   "source": [
    "#training model\n",
    "model.fit(td,tr, epochs = 10)"
   ]
  },
  {
   "cell_type": "code",
   "execution_count": 7,
   "metadata": {},
   "outputs": [
    {
     "name": "stdout",
     "output_type": "stream",
     "text": [
      "100/100 [==============================] - 0s 627us/sample - loss: 0.7307 - acc: 0.7100\n",
      "('Test accuracy:', 0.71)\n"
     ]
    }
   ],
   "source": [
    "#test data\n",
    "test_mat,test_v = writing_data(100,11,0.5)\n",
    "#evaluate accuracy\n",
    "test_loss, test_acc = model.evaluate(test_mat, test_v)\n",
    "print('Test accuracy:', test_acc)"
   ]
  },
  {
   "cell_type": "code",
   "execution_count": null,
   "metadata": {},
   "outputs": [],
   "source": []
  }
 ],
 "metadata": {
  "kernelspec": {
   "display_name": "Python 2",
   "language": "python",
   "name": "python2"
  },
  "language_info": {
   "codemirror_mode": {
    "name": "ipython",
    "version": 2
   },
   "file_extension": ".py",
   "mimetype": "text/x-python",
   "name": "python",
   "nbconvert_exporter": "python",
   "pygments_lexer": "ipython2",
   "version": "2.7.16"
  }
 },
 "nbformat": 4,
 "nbformat_minor": 2
}
