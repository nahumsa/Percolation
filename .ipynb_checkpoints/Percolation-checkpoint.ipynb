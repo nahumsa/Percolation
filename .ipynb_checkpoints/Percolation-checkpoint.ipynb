{
 "cells": [
  {
   "cell_type": "code",
   "execution_count": 9,
   "metadata": {},
   "outputs": [],
   "source": [
    "import numpy as np\n",
    "import matplotlib.pyplot as plt"
   ]
  },
  {
   "cell_type": "code",
   "execution_count": 11,
   "metadata": {},
   "outputs": [],
   "source": [
    "def grid(n, prob):\n",
    "    \"\"\"\n",
    "    Construct a grid with dimension n with probability prob\n",
    "    \"\"\"\n",
    "    return np.random.choice([0, 1], size=(n, n), p=[prob, 1-prob])"
   ]
  },
  {
   "cell_type": "code",
   "execution_count": 12,
   "metadata": {},
   "outputs": [],
   "source": [
    "def monte_carlo(samples, n, prob):\n",
    "    \"\"\"\n",
    "    samples: number of samples (int)\n",
    "    n: size of matrix  (odd int)\n",
    "    prob: probability of getting 1 or 0 (0<=prob<=1)\n",
    "    \"\"\"\n",
    "    count = 0.\n",
    "    for _ in range(samples):\n",
    "        b = grid(n, prob)\n",
    "        b[(n-1)//2][(n-1)//2] = 2\n",
    "        stop = False\n",
    "        while not stop:\n",
    "            change = False\n",
    "            for i, j in zip(*np.where(b == 2)):\n",
    "                if i == 0 or j == 0 or i == n - 1 or j == n - 1:\n",
    "                    count += 1\n",
    "                    stop = True\n",
    "                    break\n",
    "                if b[i+1, j] == 0:\n",
    "                    b[i+1, j] = 2\n",
    "                    change = True\n",
    "                if b[i, j+1] == 0:\n",
    "                    b[i, j+1] = 2\n",
    "                    change = True\n",
    "                if b[i-1, j] == 0:\n",
    "                    b[i-1, j] = 2\n",
    "                    change = True\n",
    "                if b[i, j-1] == 0:\n",
    "                    b[i, j-1] = 2\n",
    "                    change = True\n",
    "            if not change:\n",
    "                stop = True\n",
    "        #plt.imshow(b)\n",
    "        #plt.show()\n",
    "    return count / samples"
   ]
  },
  {
   "cell_type": "code",
   "execution_count": 22,
   "metadata": {
    "scrolled": true
   },
   "outputs": [],
   "source": [
    "def simulation(samples,n_matrix,n_prob):\n",
    "    \"\"\"\n",
    "    Run simulation for various probabilities\n",
    "    samples: Number of samples (int)\n",
    "    n_matrix: Size of matrix (odd int)\n",
    "    n_prob: How many points between 0 and 1\n",
    "    \"\"\"\n",
    "    prob = np.linspace(0.,1.,n_prob)\n",
    "    f = np.zeros(len(prob))\n",
    "    for i,val in enumerate(prob):\n",
    "        f[i] = monte_carlo(samples,n_matrix,val)\n",
    "    plt.plot(prob,f, 'o')\n",
    "    plt.title('Percolation')\n",
    "    plt.xlabel('Probability')\n",
    "    plt.ylabel('fraction of percolated')\n",
    "    plt.show()"
   ]
  },
  {
   "cell_type": "code",
   "execution_count": 23,
   "metadata": {
    "scrolled": true
   },
   "outputs": [
    {
     "data": {
      "image/png": "[encoded data removed]",
      "text/plain": [
       "<Figure size 432x288 with 1 Axes>"
      ]
     },
     "metadata": {
      "needs_background": "light"
     },
     "output_type": "display_data"
    }
   ],
   "source": [
    "simulation(100,11,50)"
   ]
  },
  {
   "cell_type": "code",
   "execution_count": 108,
   "metadata": {},
   "outputs": [],
   "source": [
    "import copy as cp"
   ]
  },
  {
   "cell_type": "code",
   "execution_count": 111,
   "metadata": {},
   "outputs": [],
   "source": [
    "def writing_data(samples, n, prob):\n",
    "    \"\"\"\n",
    "    samples: number of samples (int)\n",
    "    n: size of matrix  (odd int)\n",
    "    prob: probability of getting 1 or 0 (0<=prob<=1)\n",
    "    \"\"\"\n",
    "    count = 0.\n",
    "    mat = []\n",
    "    vd = np.zeros(samples)\n",
    "    for ind in range(samples):\n",
    "        b = grid(n, prob)\n",
    "        mat.append(cp.copy(b)) #Used copy to not have 2 on the matrix\n",
    "        b[(n-1)//2][(n-1)//2] = 2\n",
    "        stop = False\n",
    "        while not stop:\n",
    "            change = False\n",
    "            for i, j in zip(*np.where(b == 2)):\n",
    "                if i == 0 or j == 0 or i == n - 1 or j == n - 1:\n",
    "                    count += 1\n",
    "                    stop = True\n",
    "                    vd[ind] = 1\n",
    "                    break\n",
    "                if b[i+1, j] == 0:\n",
    "                    b[i+1, j] = 2\n",
    "                    change = True\n",
    "                if b[i, j+1] == 0:\n",
    "                    b[i, j+1] = 2\n",
    "                    change = True\n",
    "                if b[i-1, j] == 0:\n",
    "                    b[i-1, j] = 2\n",
    "                    change = True\n",
    "                if b[i, j-1] == 0:\n",
    "                    b[i, j-1] = 2\n",
    "                    change = True\n",
    "            if not change:\n",
    "                stop = True\n",
    "    return np.array(mat),vd"
   ]
  },
  {
   "cell_type": "code",
   "execution_count": 112,
   "metadata": {},
   "outputs": [],
   "source": [
    "import tensorflow as tf\n",
    "from tensorflow import keras"
   ]
  },
  {
   "cell_type": "code",
   "execution_count": 146,
   "metadata": {},
   "outputs": [],
   "source": [
    "model = keras.Sequential([\n",
    "    keras.layers.Flatten(input_shape=(11, 11)),\n",
    "    keras.layers.Dense(128, activation=tf.nn.relu),\n",
    "    keras.layers.Dense(2, activation=tf.nn.softmax)\n",
    "])"
   ]
  },
  {
   "cell_type": "code",
   "execution_count": 153,
   "metadata": {
    "scrolled": false
   },
   "outputs": [],
   "source": [
    "#traning data\n",
    "td,tr = writing_data(1000,11,0.5)"
   ]
  },
  {
   "cell_type": "code",
   "execution_count": 154,
   "metadata": {},
   "outputs": [
    {
     "data": {
      "text/plain": [
       "(array([[1, 0, 0, 0, 1, 1, 0, 0, 1, 1, 0],\n",
       "        [0, 1, 1, 0, 0, 0, 0, 0, 1, 0, 0],\n",
       "        [0, 1, 1, 0, 0, 0, 0, 1, 1, 1, 0],\n",
       "        [1, 0, 0, 1, 0, 1, 1, 0, 0, 1, 0],\n",
       "        [1, 1, 1, 1, 1, 1, 0, 1, 1, 1, 0],\n",
       "        [0, 1, 1, 1, 0, 0, 1, 1, 0, 0, 0],\n",
       "        [1, 1, 1, 1, 1, 1, 0, 1, 0, 1, 1],\n",
       "        [1, 0, 1, 1, 1, 0, 1, 1, 0, 1, 0],\n",
       "        [0, 1, 0, 0, 1, 1, 0, 1, 1, 0, 1],\n",
       "        [0, 0, 1, 1, 0, 1, 0, 1, 0, 0, 0],\n",
       "        [1, 1, 0, 0, 1, 1, 0, 0, 0, 0, 0]]), 0.0)"
      ]
     },
     "execution_count": 154,
     "metadata": {},
     "output_type": "execute_result"
    }
   ],
   "source": [
    "#sample of training data\n",
    "td[0], tr[0]"
   ]
  },
  {
   "cell_type": "code",
   "execution_count": 155,
   "metadata": {},
   "outputs": [],
   "source": [
    "model.compile(optimizer='adam', \n",
    "              loss='sparse_categorical_crossentropy',\n",
    "              metrics=['accuracy'])"
   ]
  },
  {
   "cell_type": "code",
   "execution_count": 157,
   "metadata": {
    "scrolled": true
   },
   "outputs": [
    {
     "name": "stdout",
     "output_type": "stream",
     "text": [
      "Epoch 1/10\n",
      "1000/1000 [==============================] - 0s 253us/sample - loss: 0.6883 - acc: 0.6220\n",
      "Epoch 2/10\n",
      "1000/1000 [==============================] - 0s 74us/sample - loss: 0.6034 - acc: 0.6880\n",
      "Epoch 3/10\n",
      "1000/1000 [==============================] - 0s 84us/sample - loss: 0.5639 - acc: 0.7120\n",
      "Epoch 4/10\n",
      "1000/1000 [==============================] - 0s 83us/sample - loss: 0.5272 - acc: 0.7490\n",
      "Epoch 5/10\n",
      "1000/1000 [==============================] - 0s 81us/sample - loss: 0.5077 - acc: 0.7570\n",
      "Epoch 6/10\n",
      "1000/1000 [==============================] - 0s 78us/sample - loss: 0.4734 - acc: 0.7870\n",
      "Epoch 7/10\n",
      "1000/1000 [==============================] - 0s 80us/sample - loss: 0.4577 - acc: 0.7980\n",
      "Epoch 8/10\n",
      "1000/1000 [==============================] - 0s 80us/sample - loss: 0.4393 - acc: 0.8010\n",
      "Epoch 9/10\n",
      "1000/1000 [==============================] - 0s 75us/sample - loss: 0.4017 - acc: 0.8270\n",
      "Epoch 10/10\n",
      "1000/1000 [==============================] - 0s 75us/sample - loss: 0.3842 - acc: 0.8510\n"
     ]
    },
    {
     "data": {
      "text/plain": [
       "<tensorflow.python.keras.callbacks.History at 0x7fca2cc31910>"
      ]
     },
     "execution_count": 157,
     "metadata": {},
     "output_type": "execute_result"
    }
   ],
   "source": [
    "#training model\n",
    "model.fit(td,tr, epochs = 10)"
   ]
  },
  {
   "cell_type": "code",
   "execution_count": 176,
   "metadata": {},
   "outputs": [],
   "source": [
    "#test data\n",
    "test_mat,test_v = writing_data(100,11,0.5)"
   ]
  },
  {
   "cell_type": "code",
   "execution_count": 177,
   "metadata": {
    "scrolled": false
   },
   "outputs": [
    {
     "name": "stdout",
     "output_type": "stream",
     "text": [
      "100/100 [==============================] - 0s 127us/sample - loss: 0.6627 - acc: 0.7000\n",
      "('Test accuracy:', 0.7)\n"
     ]
    }
   ],
   "source": [
    "#evaluate accuracy\n",
    "test_loss, test_acc = model.evaluate(test_mat, test_v)\n",
    "print('Test accuracy:', test_acc)\n"
   ]
  },
  {
   "cell_type": "code",
   "execution_count": 168,
   "metadata": {},
   "outputs": [
    {
     "data": {
      "text/plain": [
       "array([[0.06540667, 0.9345933 ],\n",
       "       [0.2445338 , 0.75546616],\n",
       "       [0.05660626, 0.9433937 ],\n",
       "       [0.34054044, 0.6594596 ],\n",
       "       [0.30818528, 0.6918147 ],\n",
       "       [0.05251069, 0.9474893 ],\n",
       "       [0.6024402 , 0.39755988],\n",
       "       [0.6049992 , 0.39500082],\n",
       "       [0.13688102, 0.86311895],\n",
       "       [0.31589863, 0.68410134],\n",
       "       [0.05146451, 0.9485355 ],\n",
       "       [0.24655017, 0.7534498 ],\n",
       "       [0.05144748, 0.94855255],\n",
       "       [0.01756817, 0.9824318 ],\n",
       "       [0.15296389, 0.8470361 ],\n",
       "       [0.31983647, 0.68016356],\n",
       "       [0.22579095, 0.7742091 ],\n",
       "       [0.2779227 , 0.72207737],\n",
       "       [0.02959115, 0.97040886],\n",
       "       [0.65142006, 0.34857994],\n",
       "       [0.5218765 , 0.47812346],\n",
       "       [0.24337387, 0.7566261 ],\n",
       "       [0.18604308, 0.813957  ],\n",
       "       [0.24912046, 0.7508795 ],\n",
       "       [0.51637036, 0.48362967],\n",
       "       [0.5803985 , 0.4196015 ],\n",
       "       [0.08413482, 0.9158652 ],\n",
       "       [0.1049005 , 0.8950995 ],\n",
       "       [0.19314817, 0.80685186],\n",
       "       [0.49677742, 0.5032226 ],\n",
       "       [0.26197043, 0.7380296 ],\n",
       "       [0.11126666, 0.8887333 ],\n",
       "       [0.01883436, 0.98116565],\n",
       "       [0.48716146, 0.5128385 ],\n",
       "       [0.6355244 , 0.36447564],\n",
       "       [0.5082286 , 0.49177134],\n",
       "       [0.03328908, 0.9667109 ],\n",
       "       [0.27984902, 0.72015095],\n",
       "       [0.01377313, 0.98622686],\n",
       "       [0.4410453 , 0.55895466],\n",
       "       [0.38816264, 0.61183745],\n",
       "       [0.17743847, 0.82256156],\n",
       "       [0.3530824 , 0.64691764],\n",
       "       [0.07945538, 0.92054456],\n",
       "       [0.12012926, 0.8798707 ],\n",
       "       [0.50603014, 0.49396995],\n",
       "       [0.03185965, 0.96814036],\n",
       "       [0.13810112, 0.86189884],\n",
       "       [0.18338212, 0.81661785],\n",
       "       [0.33400506, 0.66599494],\n",
       "       [0.19253123, 0.8074688 ],\n",
       "       [0.20133652, 0.79866344],\n",
       "       [0.09697012, 0.9030299 ],\n",
       "       [0.58188415, 0.4181159 ],\n",
       "       [0.13984932, 0.86015064],\n",
       "       [0.04032658, 0.9596734 ],\n",
       "       [0.7098109 , 0.29018906],\n",
       "       [0.09621838, 0.9037816 ],\n",
       "       [0.4795278 , 0.5204722 ],\n",
       "       [0.11461986, 0.8853801 ],\n",
       "       [0.16166948, 0.83833045],\n",
       "       [0.6338228 , 0.36617717],\n",
       "       [0.7567595 , 0.24324055],\n",
       "       [0.66010016, 0.33989993],\n",
       "       [0.02737233, 0.97262764],\n",
       "       [0.34926143, 0.65073854],\n",
       "       [0.2610082 , 0.7389918 ],\n",
       "       [0.2155181 , 0.78448194],\n",
       "       [0.4924849 , 0.50751513],\n",
       "       [0.09559502, 0.904405  ],\n",
       "       [0.28416958, 0.71583045],\n",
       "       [0.21073121, 0.78926873],\n",
       "       [0.78018856, 0.21981145],\n",
       "       [0.34048262, 0.6595174 ],\n",
       "       [0.7409745 , 0.2590255 ],\n",
       "       [0.19049795, 0.809502  ],\n",
       "       [0.00549488, 0.9945051 ],\n",
       "       [0.36137685, 0.6386231 ],\n",
       "       [0.09616923, 0.90383077],\n",
       "       [0.1981384 , 0.80186164],\n",
       "       [0.36595237, 0.63404757],\n",
       "       [0.19884737, 0.80115265],\n",
       "       [0.3889724 , 0.61102766],\n",
       "       [0.10359532, 0.8964047 ],\n",
       "       [0.82441044, 0.17558956],\n",
       "       [0.17390148, 0.82609856],\n",
       "       [0.01845073, 0.9815493 ],\n",
       "       [0.15099262, 0.84900737],\n",
       "       [0.20650092, 0.79349905],\n",
       "       [0.0310788 , 0.96892124],\n",
       "       [0.45219976, 0.54780024],\n",
       "       [0.27559328, 0.7244067 ],\n",
       "       [0.25478086, 0.7452191 ],\n",
       "       [0.14837813, 0.85162187],\n",
       "       [0.39548978, 0.6045102 ],\n",
       "       [0.22258936, 0.7774107 ],\n",
       "       [0.37866682, 0.6213332 ],\n",
       "       [0.20920718, 0.79079276],\n",
       "       [0.22110705, 0.778893  ],\n",
       "       [0.24960373, 0.7503963 ]], dtype=float32)"
      ]
     },
     "execution_count": 168,
     "metadata": {},
     "output_type": "execute_result"
    }
   ],
   "source": [
    "model.predict(test_mat)"
   ]
  },
  {
   "cell_type": "code",
   "execution_count": 167,
   "metadata": {},
   "outputs": [
    {
     "name": "stdout",
     "output_type": "stream",
     "text": [
      "0.9345933\n"
     ]
    },
    {
     "ename": "IndexError",
     "evalue": "only integers, slices (`:`), ellipsis (`...`), numpy.newaxis (`None`) and integer or boolean arrays are valid indices",
     "output_type": "error",
     "traceback": [
      "\u001b[0;31m---------------------------------------------------------------------------\u001b[0m",
      "\u001b[0;31mIndexError\u001b[0m                                Traceback (most recent call last)",
      "\u001b[0;32m<ipython-input-167-826c5af2fb55>\u001b[0m in \u001b[0;36m<module>\u001b[0;34m()\u001b[0m\n\u001b[1;32m      6\u001b[0m     \u001b[0;32melse\u001b[0m\u001b[0;34m:\u001b[0m\u001b[0;34m\u001b[0m\u001b[0m\n\u001b[1;32m      7\u001b[0m         \u001b[0;32mprint\u001b[0m\u001b[0;34m(\u001b[0m\u001b[0mv\u001b[0m\u001b[0;34m)\u001b[0m\u001b[0;34m\u001b[0m\u001b[0m\n\u001b[0;32m----> 8\u001b[0;31m         \u001b[0mq\u001b[0m\u001b[0;34m[\u001b[0m\u001b[0mcount\u001b[0m\u001b[0;34m]\u001b[0m \u001b[0;34m=\u001b[0m \u001b[0;36m1.\u001b[0m\u001b[0;34m\u001b[0m\u001b[0m\n\u001b[0m\u001b[1;32m      9\u001b[0m     \u001b[0mcount\u001b[0m \u001b[0;34m+=\u001b[0m \u001b[0;36m1\u001b[0m\u001b[0;34m\u001b[0m\u001b[0m\n",
      "\u001b[0;31mIndexError\u001b[0m: only integers, slices (`:`), ellipsis (`...`), numpy.newaxis (`None`) and integer or boolean arrays are valid indices"
     ]
    }
   ],
   "source": [
    "q = np.zeros(len(model.predict(test_mat)))\n",
    "count = 0.\n",
    "for i,v in model.predict(test_mat):\n",
    "    if i > v:\n",
    "        print(i)\n",
    "    else: \n",
    "        print(v)\n",
    "        q[count] = 1.\n",
    "    count += 1"
   ]
  },
  {
   "cell_type": "code",
   "execution_count": 166,
   "metadata": {},
   "outputs": [
    {
     "data": {
      "text/plain": [
       "array([0., 0., 0., 0., 0., 0., 0., 0., 0., 0., 0., 0., 0., 0., 0., 0., 0.,\n",
       "       0., 0., 0., 0., 0., 0., 0., 0., 0., 0., 0., 0., 0., 0., 0., 0., 0.,\n",
       "       0., 0., 0., 0., 0., 0., 0., 0., 0., 0., 0., 0., 0., 0., 0., 0., 0.,\n",
       "       0., 0., 0., 0., 0., 0., 0., 0., 0., 0., 0., 0., 0., 0., 0., 0., 0.,\n",
       "       0., 0., 0., 0., 0., 0., 0., 0., 0., 0., 0., 0., 0., 0., 0., 0., 0.,\n",
       "       0., 0., 0., 0., 0., 0., 0., 0., 0., 0., 0., 0., 0., 0., 0.])"
      ]
     },
     "execution_count": 166,
     "metadata": {},
     "output_type": "execute_result"
    }
   ],
   "source": [
    "q"
   ]
  },
  {
   "cell_type": "code",
   "execution_count": null,
   "metadata": {},
   "outputs": [],
   "source": []
  }
 ],
 "metadata": {
  "anaconda-cloud": {},
  "kernelspec": {
   "display_name": "Python 2",
   "language": "python",
   "name": "python2"
  },
  "language_info": {
   "codemirror_mode": {
    "name": "ipython",
    "version": 2
   },
   "file_extension": ".py",
   "mimetype": "text/x-python",
   "name": "python",
   "nbconvert_exporter": "python",
   "pygments_lexer": "ipython2",
   "version": "2.7.16"
  }
 },
 "nbformat": 4,
 "nbformat_minor": 2
}
