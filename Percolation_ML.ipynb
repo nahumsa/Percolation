{
 "cells": [
  {
   "cell_type": "code",
   "execution_count": 9,
   "metadata": {},
   "outputs": [],
   "source": [
    "import numpy as np\n",
    "import matplotlib.pyplot as plt\n",
    "import copy as cp\n",
    "import os\n",
    "import tensorflow as tf\n",
    "from tensorflow import keras\n",
    "import seaborn as sns\n",
    "from sklearn.model_selection import train_test_split\n",
    "from sklearn.metrics import confusion_matrix\n",
    "\n",
    "%matplotlib inline"
   ]
  },
  {
   "cell_type": "code",
   "execution_count": 2,
   "metadata": {},
   "outputs": [],
   "source": [
    "def grid(n, prob):\n",
    "    \"\"\"\n",
    "    Construct a grid with dimension n with probability prob\n",
    "    \"\"\"\n",
    "    return np.random.choice([0, 1], size=(n, n), p=[prob, 1-prob])\n",
    "\n",
    "\n",
    "def writing_data(samples, n, prob):\n",
    "    \"\"\"\n",
    "    samples: number of samples (int)\n",
    "    n: size of matrix  (odd int)\n",
    "    prob: probability of getting 1 or 0 (0<=prob<=1)\n",
    "    \"\"\"\n",
    "    count = 0.\n",
    "    mat = []\n",
    "    vd = np.zeros(samples)\n",
    "    for ind in range(samples):\n",
    "        b = grid(n, prob)\n",
    "        mat.append(cp.copy(b)) #Used copy to not have 2 on the matrix\n",
    "        b[(n-1)//2][(n-1)//2] = 2\n",
    "        stop = False\n",
    "        while not stop:\n",
    "            change = False\n",
    "            for i, j in zip(*np.where(b == 2)):\n",
    "                if i == 0 or j == 0 or i == n - 1 or j == n - 1:\n",
    "                    count += 1\n",
    "                    stop = True\n",
    "                    vd[ind] = 1\n",
    "                    break\n",
    "                if b[i+1, j] == 0:\n",
    "                    b[i+1, j] = 2\n",
    "                    change = True\n",
    "                if b[i, j+1] == 0:\n",
    "                    b[i, j+1] = 2\n",
    "                    change = True\n",
    "                if b[i-1, j] == 0:\n",
    "                    b[i-1, j] = 2\n",
    "                    change = True\n",
    "                if b[i, j-1] == 0:\n",
    "                    b[i, j-1] = 2\n",
    "                    change = True\n",
    "            if not change:\n",
    "                stop = True\n",
    "    return np.array(mat),vd"
   ]
  },
  {
   "cell_type": "markdown",
   "metadata": {},
   "source": [
    "# Build a model"
   ]
  },
  {
   "cell_type": "markdown",
   "metadata": {},
   "source": [
    "In this case I use a simple Neural Network with one input layer and one hidden layer with output 0 (if the matrix don't percolate) or 1 (if the matrix percolate)."
   ]
  },
  {
   "cell_type": "code",
   "execution_count": null,
   "metadata": {},
   "outputs": [],
   "source": [
    "n = 15\n",
    "model = keras.Sequential([\n",
    "    keras.layers.Flatten(input_shape=(n, n)),\n",
    "    keras.layers.Dense(256, activation=tf.nn.relu),\n",
    "    keras.layers.Dense(2, activation=tf.nn.softmax)\n",
    "])\n",
    "model.compile(optimizer='adam', \n",
    "              loss='sparse_categorical_crossentropy',\n",
    "              metrics=['accuracy'])"
   ]
  },
  {
   "cell_type": "markdown",
   "metadata": {},
   "source": [
    "# Make the Training data"
   ]
  },
  {
   "cell_type": "code",
   "execution_count": null,
   "metadata": {},
   "outputs": [],
   "source": [
    "#traning data\n",
    "td,tr = writing_data(1000,n,0.5)"
   ]
  },
  {
   "cell_type": "markdown",
   "metadata": {},
   "source": [
    "# Show sample of data"
   ]
  },
  {
   "cell_type": "code",
   "execution_count": null,
   "metadata": {
    "scrolled": true
   },
   "outputs": [],
   "source": [
    "plt.imshow(td[0])\n",
    "print(tr[0])"
   ]
  },
  {
   "cell_type": "markdown",
   "metadata": {},
   "source": [
    "# Training the model"
   ]
  },
  {
   "cell_type": "code",
   "execution_count": null,
   "metadata": {
    "scrolled": true
   },
   "outputs": [],
   "source": [
    "history = model.fit(td,tr, epochs = 12)"
   ]
  },
  {
   "cell_type": "markdown",
   "metadata": {},
   "source": [
    "# Testing the model"
   ]
  },
  {
   "cell_type": "code",
   "execution_count": null,
   "metadata": {
    "scrolled": false
   },
   "outputs": [],
   "source": [
    "test_mat,test_v = writing_data(100,n,0.6)\n",
    "test_loss, test_acc = model.evaluate(test_mat, test_v)\n",
    "print('Test accuracy:', test_acc)"
   ]
  },
  {
   "cell_type": "markdown",
   "metadata": {},
   "source": [
    "# Plotting the probability versus the accuracy of the method"
   ]
  },
  {
   "cell_type": "markdown",
   "metadata": {},
   "source": [
    "We have a plot that shows that the accuracy decreases on the critical probability for the model.\n",
    "\n",
    "The way to acquire data for the plot is given in the line below the plot"
   ]
  },
  {
   "cell_type": "code",
   "execution_count": null,
   "metadata": {
    "scrolled": true
   },
   "outputs": [],
   "source": [
    "plt.plot(probability,acc, 'o')\n",
    "plt.show()"
   ]
  },
  {
   "cell_type": "code",
   "execution_count": null,
   "metadata": {
    "scrolled": true
   },
   "outputs": [],
   "source": [
    "probability = np.linspace(0.,1.,100)\n",
    "acc = np.zeros(len(probability))\n",
    "for i,v in enumerate(probability):\n",
    "    #test data\n",
    "    test_mat,test_v = writing_data(100,n,v)\n",
    "    #evaluate accuracy\n",
    "    test_loss, test_acc = model.evaluate(test_mat, test_v)\n",
    "    acc[i] = test_acc"
   ]
  },
  {
   "cell_type": "markdown",
   "metadata": {},
   "source": [
    "# Building another model"
   ]
  },
  {
   "cell_type": "markdown",
   "metadata": {},
   "source": [
    "This time I will use Convolutional Neural Networks with 1 convolutional + pooling layers before entering the Neural Network structure that is the same as the previous one. We have chosen the probability to be 0.5 in order to have the same number of samples that percolates and that doesn't percolate."
   ]
  },
  {
   "cell_type": "code",
   "execution_count": 55,
   "metadata": {},
   "outputs": [],
   "source": [
    "#traning data\n",
    "n = 18 #Number of samples\n",
    "td,tr = writing_data(10000,n,0.5)\n",
    "td = td.reshape(-1,n,n,1)\n",
    "#One hot encoding\n",
    "tr = keras.utils.to_categorical(tr, num_classes= 2)\n",
    "#Splitting data\n",
    "train_x , test_x , train_y , test_y = train_test_split(td , tr , \n",
    "                                            test_size = 0.2 ,\n",
    "                                            random_state = 42)"
   ]
  },
  {
   "cell_type": "code",
   "execution_count": 56,
   "metadata": {},
   "outputs": [],
   "source": [
    "model = keras.Sequential([\n",
    "    keras.layers.Conv2D(50, kernel_size= 2, activation=tf.nn.relu, input_shape=(n,n,1)),\n",
    "    keras.layers.MaxPooling2D(pool_size=(2, 2), strides=(1, 1)),\n",
    "    keras.layers.Flatten(),\n",
    "    keras.layers.Dense(256, activation=tf.nn.relu),\n",
    "    keras.layers.Dense(2, activation=tf.nn.softmax),\n",
    "])\n",
    "model.compile(optimizer='adam', \n",
    "              loss= keras.losses.kullback_leibler_divergence,\n",
    "              metrics=['accuracy'])"
   ]
  },
  {
   "cell_type": "code",
   "execution_count": 57,
   "metadata": {},
   "outputs": [],
   "source": [
    "#Callbacks\n",
    "tbCallBack = keras.callbacks.TensorBoard(log_dir='./Graph', \n",
    "                                        histogram_freq= 1, \n",
    "                                        write_graph= True, \n",
    "                                        write_images= True,\n",
    "                                       update_freq= 'batch')\n",
    "\n",
    "earlystop = keras.callbacks.EarlyStopping(monitor='val_loss',\n",
    "                                          min_delta=0.001,\n",
    "                                          patience=7, \n",
    "                                          verbose=2, \n",
    "                                          mode='min')\n",
    "\n",
    "reduce_lr = keras.callbacks.ReduceLROnPlateau(monitor='val_loss', factor=0.2,\n",
    "                              patience=5, min_lr=0.001)\n"
   ]
  },
  {
   "cell_type": "code",
   "execution_count": 58,
   "metadata": {
    "scrolled": true
   },
   "outputs": [
    {
     "name": "stdout",
     "output_type": "stream",
     "text": [
      "Train on 8000 samples, validate on 2000 samples\n",
      "Epoch 1/20\n",
      " - 8s - loss: 1.3303 - acc: 0.4966 - val_loss: 0.7956 - val_acc: 0.5495\n",
      "Epoch 2/20\n",
      " - 7s - loss: 0.7127 - acc: 0.5064 - val_loss: 0.6908 - val_acc: 0.5495\n",
      "Epoch 3/20\n",
      " - 7s - loss: 0.6884 - acc: 0.5536 - val_loss: 0.6873 - val_acc: 0.5495\n",
      "Epoch 4/20\n",
      " - 7s - loss: 0.6844 - acc: 0.5536 - val_loss: 0.6833 - val_acc: 0.5495\n",
      "Epoch 5/20\n",
      " - 7s - loss: 0.6805 - acc: 0.5536 - val_loss: 0.6818 - val_acc: 0.5495\n",
      "Epoch 6/20\n",
      " - 7s - loss: 0.6774 - acc: 0.5536 - val_loss: 0.6778 - val_acc: 0.5495\n",
      "Epoch 7/20\n",
      " - 7s - loss: 0.6729 - acc: 0.5543 - val_loss: 0.6745 - val_acc: 0.5495\n",
      "Epoch 8/20\n",
      " - 7s - loss: 0.6667 - acc: 0.5620 - val_loss: 0.6658 - val_acc: 0.5750\n",
      "Epoch 9/20\n",
      " - 7s - loss: 0.6570 - acc: 0.6135 - val_loss: 0.6549 - val_acc: 0.5925\n",
      "Epoch 10/20\n",
      " - 6s - loss: 0.6426 - acc: 0.6380 - val_loss: 0.6398 - val_acc: 0.6545\n",
      "Epoch 11/20\n",
      " - 6s - loss: 0.6249 - acc: 0.6864 - val_loss: 0.6271 - val_acc: 0.6315\n",
      "Epoch 12/20\n",
      " - 7s - loss: 0.6033 - acc: 0.7054 - val_loss: 0.6112 - val_acc: 0.6575\n",
      "Epoch 13/20\n",
      " - 7s - loss: 0.5846 - acc: 0.7116 - val_loss: 0.5932 - val_acc: 0.6855\n",
      "Epoch 14/20\n",
      " - 6s - loss: 0.5670 - acc: 0.7191 - val_loss: 0.5767 - val_acc: 0.7070\n",
      "Epoch 15/20\n",
      " - 6s - loss: 0.5563 - acc: 0.7201 - val_loss: 0.5784 - val_acc: 0.6965\n",
      "Epoch 16/20\n",
      " - 6s - loss: 0.5511 - acc: 0.7245 - val_loss: 0.5653 - val_acc: 0.7030\n",
      "Epoch 17/20\n",
      " - 7s - loss: 0.5386 - acc: 0.7309 - val_loss: 0.5640 - val_acc: 0.6995\n",
      "Epoch 18/20\n",
      " - 7s - loss: 0.5299 - acc: 0.7381 - val_loss: 0.5581 - val_acc: 0.7060\n",
      "Epoch 19/20\n",
      " - 7s - loss: 0.5227 - acc: 0.7418 - val_loss: 0.5600 - val_acc: 0.7065\n",
      "Epoch 20/20\n",
      " - 7s - loss: 0.5183 - acc: 0.7421 - val_loss: 0.5548 - val_acc: 0.7090\n"
     ]
    }
   ],
   "source": [
    "history = model.fit(train_x,\n",
    "                    train_y, \n",
    "                    epochs = 20,\n",
    "                    batch_size=512,\n",
    "                    verbose = 2,\n",
    "                    validation_data=(test_x, test_y),\n",
    "                    callbacks = [earlystop,reduce_lr]\n",
    "                   )"
   ]
  },
  {
   "cell_type": "code",
   "execution_count": 59,
   "metadata": {
    "scrolled": true
   },
   "outputs": [
    {
     "data": {
      "image/png": "[encoded data removed]",
      "text/plain": [
       "<Figure size 864x360 with 2 Axes>"
      ]
     },
     "metadata": {
      "needs_background": "light"
     },
     "output_type": "display_data"
    }
   ],
   "source": [
    "#accuracy\n",
    "train_accuracy = history.history['acc']\n",
    "validation_accuracy = history.history['val_acc']\n",
    "\n",
    "#loss \n",
    "train_loss = history.history['loss']\n",
    "validation_loss = history.history['val_loss']\n",
    "\n",
    "#Epochs\n",
    "epoch_range = range(1,len(train_accuracy)+1)\n",
    "\n",
    "#Plot\n",
    "fig, ax = plt.subplots(1, 2, figsize=(12,5))\n",
    "\n",
    "ax[0].set_title('Accuracy per Epoch')\n",
    "sns.lineplot(x=epoch_range,y=train_accuracy,marker='o',ax=ax[0])\n",
    "sns.lineplot(x=epoch_range,y=validation_accuracy,marker='o',ax=ax[0])\n",
    "ax[0].legend(['training','validation'])\n",
    "ax[0].set_xlabel('Epoch')\n",
    "ax[0].set_ylabel('Accuracy')\n",
    "ax[1].set_title('Loss per Epoch')\n",
    "sns.lineplot(x=epoch_range,y=train_loss,marker='o',ax=ax[1])\n",
    "sns.lineplot(x=epoch_range,y=validation_loss,marker='o',ax=ax[1])\n",
    "ax[1].legend(['training','validation'])\n",
    "ax[1].set_xlabel('Epoch')\n",
    "ax[1].set_ylabel('Loss')\n",
    "plt.show()"
   ]
  },
  {
   "cell_type": "markdown",
   "metadata": {},
   "source": [
    "# Creating data for the Finite Size Scalling"
   ]
  },
  {
   "cell_type": "code",
   "execution_count": 37,
   "metadata": {},
   "outputs": [],
   "source": [
    "def save_file(prob,P1, P2):\n",
    "    \"\"\"\n",
    "    Save samples for finite size scaling.\n",
    "    \"\"\"\n",
    "    dirname = 'data' #Directory name\n",
    "    if not dirname in os.listdir(os.getcwd()):\n",
    "        try:\n",
    "            os.makedirs(dirname) #create your directory\n",
    "        except OSError as exc: \n",
    "            if exc.errno != errno.EEXIST:\n",
    "                raise\n",
    "    path = os.getcwd()\n",
    "    os.chdir(path + '/data') \n",
    "    if not str(n) in os.listdir(os.getcwd()):\n",
    "        try:\n",
    "            os.makedirs(str(n)) #create your directory\n",
    "        except OSError as exc: \n",
    "            if exc.errno != errno.EEXIST:\n",
    "                raise\n",
    "    os.chdir(str(n))\n",
    "    np.savetxt('P_1.txt', [prob, P1])\n",
    "    np.savetxt('P_2.txt', [prob, P2])\n",
    "    os.chdir('..')\n",
    "    os.chdir('..')\n"
   ]
  },
  {
   "cell_type": "code",
   "execution_count": 60,
   "metadata": {},
   "outputs": [
    {
     "data": {
      "image/png": "[encoded data removed]",
      "text/plain": [
       "<Figure size 432x288 with 1 Axes>"
      ]
     },
     "metadata": {
      "needs_background": "light"
     },
     "output_type": "display_data"
    }
   ],
   "source": [
    "probability = np.linspace(0.,1.,40)\n",
    "P_1 = np.zeros(len(probability))\n",
    "P_2 = np.zeros(len(probability))\n",
    "for i,v in enumerate(probability):\n",
    "    #test data\n",
    "    test_mat,test_v = writing_data(100,n,v)\n",
    "    test_mat = test_mat.reshape(-1,n,n,1)     \n",
    "    a = model.predict(test_mat)\n",
    "    o_1 = []\n",
    "    o_2 = []\n",
    "    for samp in a:\n",
    "        o_1.append(samp[0])\n",
    "        o_2.append(samp[1])\n",
    "    P_1[i] = np.mean(o_1)\n",
    "    P_2[i] = np.mean(o_2)\n",
    "q = plt.plot(probability, P_1, 'o')\n",
    "q = plt.plot(probability, P_2, 'o')\n",
    "\n",
    "save_file(probability, P_1, P_2)"
   ]
  },
  {
   "cell_type": "markdown",
   "metadata": {},
   "source": [
    "# Plotting the probability versus the accuracy of the method"
   ]
  },
  {
   "cell_type": "markdown",
   "metadata": {},
   "source": [
    "We have a plot that shows that the accuracy decreases on the critical probability for the model."
   ]
  },
  {
   "cell_type": "code",
   "execution_count": 39,
   "metadata": {
    "scrolled": true
   },
   "outputs": [
    {
     "data": {
      "image/png": "[encoded data removed]",
      "text/plain": [
       "<Figure size 432x288 with 1 Axes>"
      ]
     },
     "metadata": {
      "needs_background": "light"
     },
     "output_type": "display_data"
    }
   ],
   "source": [
    "probability = np.linspace(0.,1.,40)\n",
    "acc = np.zeros(len(probability))\n",
    "for i,v in enumerate(probability):\n",
    "    #test data\n",
    "    test_mat,test_v = writing_data(100,n,v)\n",
    "    test_mat = test_mat.reshape(-1,n,n,1) \n",
    "    test_v = keras.utils.to_categorical(test_v, num_classes= 2) #One Hot Encoding\n",
    "    #evaluate accuracy\n",
    "    test_loss, test_acc = model.evaluate(test_mat, test_v, verbose = 0)\n",
    "    acc[i] = test_acc\n",
    "\n",
    "q = plt.plot(probability,acc, 'o')"
   ]
  },
  {
   "cell_type": "code",
   "execution_count": 40,
   "metadata": {},
   "outputs": [
    {
     "data": {
      "image/png": "[encoded data removed]",
      "text/plain": [
       "<Figure size 432x288 with 1 Axes>"
      ]
     },
     "metadata": {
      "needs_background": "light"
     },
     "output_type": "display_data"
    }
   ],
   "source": [
    "from scipy.optimize import curve_fit\n",
    "from scipy import asarray as ar,exp\n",
    "\n",
    "def gaus(x,a,x0,sigma):\n",
    "    return a*exp(-(x-x0)**2/(2*sigma**2))\n",
    "x = probability\n",
    "y = 1 - acc\n",
    "\n",
    "popt,pcov = curve_fit(gaus,x,y, p0=[0.5,0.3,1.])\n",
    "plt.plot(x,y,'b+:',label='data')\n",
    "plt.plot(x,gaus(x,*popt),'ro:',label='fit')\n",
    "plt.legend()\n",
    "plt.show()"
   ]
  },
  {
   "cell_type": "markdown",
   "metadata": {},
   "source": [
    "Adjusting a Gaussian we can find the percolation probability."
   ]
  },
  {
   "cell_type": "code",
   "execution_count": 41,
   "metadata": {},
   "outputs": [
    {
     "name": "stdout",
     "output_type": "stream",
     "text": [
      "Percolation probability:0.46604\n"
     ]
    }
   ],
   "source": [
    "print(\"Percolation probability:%.5f\" % popt[1])"
   ]
  },
  {
   "cell_type": "markdown",
   "metadata": {},
   "source": [
    "# Finite Size Scaling"
   ]
  },
  {
   "cell_type": "code",
   "execution_count": 76,
   "metadata": {},
   "outputs": [],
   "source": [
    "os.chdir('data') \n",
    "list_N = os.listdir('.')\n",
    "N = [int(i) for i in list_N]\n",
    "N.sort()\n",
    "N = np.array(N)"
   ]
  },
  {
   "cell_type": "code",
   "execution_count": 77,
   "metadata": {},
   "outputs": [],
   "source": [
    "P1 = []\n",
    "P2 = []\n",
    "for i in N:\n",
    "    os.chdir(str(i))\n",
    "    P1.append(np.loadtxt('P_1.txt', unpack=True))\n",
    "    P2.append(np.loadtxt('P_2.txt', unpack=True))\n",
    "    os.chdir('..')"
   ]
  },
  {
   "cell_type": "code",
   "execution_count": 95,
   "metadata": {},
   "outputs": [],
   "source": [
    "def unpack(PP):\n",
    "    P = []\n",
    "    P_ = []\n",
    "    for i in PP:\n",
    "        A = []\n",
    "        B = []\n",
    "        for j in i:\n",
    "            A.append(j[0])\n",
    "            B.append(j[1])\n",
    "        P.append(A)\n",
    "        P_.append(B)\n",
    "    return P, P_"
   ]
  },
  {
   "cell_type": "code",
   "execution_count": 96,
   "metadata": {},
   "outputs": [],
   "source": [
    "P, P_1 = unpack(P1)\n",
    "P, P_2 = unpack(P2)"
   ]
  },
  {
   "cell_type": "code",
   "execution_count": 109,
   "metadata": {},
   "outputs": [
    {
     "data": {
      "image/png": "[encoded data removed]",
      "text/plain": [
       "<Figure size 432x288 with 1 Axes>"
      ]
     },
     "metadata": {
      "needs_background": "light"
     },
     "output_type": "display_data"
    }
   ],
   "source": [
    "markers = ['<', '+', 'o' , '*']\n",
    "for i in range(len(P)):\n",
    "    plt.plot(P[i],P_1[i],  linestyle = '', color = 'C' + str(i), marker = markers[i], label = str(N[i]))\n",
    "    plt.plot(P[i],P_2[i],  linestyle = '', color = 'C' + str(i), marker = markers[i])\n",
    "plt.legend()\n",
    "plt.xlabel('Probability')\n",
    "plt.ylabel('Percent of percolated clusters')\n",
    "plt.show()"
   ]
  },
  {
   "cell_type": "code",
   "execution_count": null,
   "metadata": {},
   "outputs": [],
   "source": []
  }
 ],
 "metadata": {
  "kernelspec": {
   "display_name": "Python 3",
   "language": "python",
   "name": "python3"
  },
  "language_info": {
   "codemirror_mode": {
    "name": "ipython",
    "version": 3
   },
   "file_extension": ".py",
   "mimetype": "text/x-python",
   "name": "python",
   "nbconvert_exporter": "python",
   "pygments_lexer": "ipython3",
   "version": "3.6.8"
  }
 },
 "nbformat": 4,
 "nbformat_minor": 2
}
