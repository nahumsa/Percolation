{
 "cells": [
  {
   "cell_type": "code",
   "execution_count": 4,
   "metadata": {},
   "outputs": [],
   "source": [
    "import numpy as np\n",
    "import matplotlib.pyplot as plt\n",
    "import copy as cp\n",
    "import tensorflow as tf\n",
    "from tensorflow import keras\n",
    "import seaborn as sns\n",
    "from sklearn.model_selection import train_test_split\n",
    "from sklearn.metrics import confusion_matrix\n",
    "\n",
    "%matplotlib inline\n",
    "\n",
    "def grid(n, prob):\n",
    "    \"\"\"\n",
    "    Construct a grid with dimension n with probability prob\n",
    "    \"\"\"\n",
    "    return np.random.choice([0, 1], size=(n, n), p=[prob, 1-prob])\n",
    "\n"
   ]
  },
  {
   "cell_type": "code",
   "execution_count": 2,
   "metadata": {},
   "outputs": [],
   "source": [
    "def writing_data(samples, n, prob):\n",
    "    \"\"\"\n",
    "    samples: number of samples (int)\n",
    "    n: size of matrix  (odd int)\n",
    "    prob: probability of getting 1 or 0 (0<=prob<=1)\n",
    "    \"\"\"\n",
    "    count = 0.\n",
    "    mat = []\n",
    "    vd = np.zeros(samples)\n",
    "    for ind in range(samples):\n",
    "        b = grid(n, prob)\n",
    "        mat.append(cp.copy(b)) #Used copy to not have 2 on the matrix\n",
    "        b[(n-1)//2][(n-1)//2] = 2\n",
    "        stop = False\n",
    "        while not stop:\n",
    "            change = False\n",
    "            for i, j in zip(*np.where(b == 2)):\n",
    "                if i == 0 or j == 0 or i == n - 1 or j == n - 1:\n",
    "                    count += 1\n",
    "                    stop = True\n",
    "                    vd[ind] = 1\n",
    "                    break\n",
    "                if b[i+1, j] == 0:\n",
    "                    b[i+1, j] = 2\n",
    "                    change = True\n",
    "                if b[i, j+1] == 0:\n",
    "                    b[i, j+1] = 2\n",
    "                    change = True\n",
    "                if b[i-1, j] == 0:\n",
    "                    b[i-1, j] = 2\n",
    "                    change = True\n",
    "                if b[i, j-1] == 0:\n",
    "                    b[i, j-1] = 2\n",
    "                    change = True\n",
    "            if not change:\n",
    "                stop = True\n",
    "    return np.array(mat),vd"
   ]
  },
  {
   "cell_type": "markdown",
   "metadata": {},
   "source": [
    "# Build a model"
   ]
  },
  {
   "cell_type": "markdown",
   "metadata": {},
   "source": [
    "In this case I use a simple Neural Network with one input layer and one hidden layer with output 0 (if the matrix don't percolate) or 1 (if the matrix percolate)."
   ]
  },
  {
   "cell_type": "code",
   "execution_count": null,
   "metadata": {},
   "outputs": [],
   "source": [
    "n = 15\n",
    "model = keras.Sequential([\n",
    "    keras.layers.Flatten(input_shape=(n, n)),\n",
    "    keras.layers.Dense(256, activation=tf.nn.relu),\n",
    "    keras.layers.Dense(2, activation=tf.nn.softmax)\n",
    "])\n",
    "model.compile(optimizer='adam', \n",
    "              loss='sparse_categorical_crossentropy',\n",
    "              metrics=['accuracy'])"
   ]
  },
  {
   "cell_type": "markdown",
   "metadata": {},
   "source": [
    "# Make the Training data"
   ]
  },
  {
   "cell_type": "code",
   "execution_count": null,
   "metadata": {},
   "outputs": [],
   "source": [
    "#traning data\n",
    "td,tr = writing_data(1000,n,0.5)"
   ]
  },
  {
   "cell_type": "markdown",
   "metadata": {},
   "source": [
    "# Show sample of data"
   ]
  },
  {
   "cell_type": "code",
   "execution_count": null,
   "metadata": {
    "scrolled": true
   },
   "outputs": [],
   "source": [
    "plt.imshow(td[0])\n",
    "print(tr[0])"
   ]
  },
  {
   "cell_type": "markdown",
   "metadata": {},
   "source": [
    "# Training the model"
   ]
  },
  {
   "cell_type": "code",
   "execution_count": null,
   "metadata": {
    "scrolled": true
   },
   "outputs": [],
   "source": [
    "history = model.fit(td,tr, epochs = 12)"
   ]
  },
  {
   "cell_type": "markdown",
   "metadata": {},
   "source": [
    "# Testing the model"
   ]
  },
  {
   "cell_type": "code",
   "execution_count": null,
   "metadata": {
    "scrolled": false
   },
   "outputs": [],
   "source": [
    "test_mat,test_v = writing_data(100,n,0.6)\n",
    "test_loss, test_acc = model.evaluate(test_mat, test_v)\n",
    "print('Test accuracy:', test_acc)"
   ]
  },
  {
   "cell_type": "markdown",
   "metadata": {},
   "source": [
    "# Plotting the probability versus the accuracy of the method"
   ]
  },
  {
   "cell_type": "markdown",
   "metadata": {},
   "source": [
    "We have a plot that shows that the accuracy decreases on the critical probability for the model.\n",
    "\n",
    "The way to acquire data for the plot is given in the line below the plot"
   ]
  },
  {
   "cell_type": "code",
   "execution_count": null,
   "metadata": {
    "scrolled": true
   },
   "outputs": [],
   "source": [
    "plt.plot(probability,acc, 'o')\n",
    "plt.show()"
   ]
  },
  {
   "cell_type": "code",
   "execution_count": null,
   "metadata": {
    "scrolled": true
   },
   "outputs": [],
   "source": [
    "probability = np.linspace(0.,1.,100)\n",
    "acc = np.zeros(len(probability))\n",
    "for i,v in enumerate(probability):\n",
    "    #test data\n",
    "    test_mat,test_v = writing_data(100,n,v)\n",
    "    #evaluate accuracy\n",
    "    test_loss, test_acc = model.evaluate(test_mat, test_v)\n",
    "    acc[i] = test_acc"
   ]
  },
  {
   "cell_type": "markdown",
   "metadata": {},
   "source": [
    "# Building another model"
   ]
  },
  {
   "cell_type": "markdown",
   "metadata": {},
   "source": [
    "This time I will use Convolutional Neural Networks with 1 convolutional + pooling layers before entering the Neural Network structure that is the same as the previous one. We have chosen the probability to be 0.5 in order to have the same number of samples that percolates and that doesn't percolate."
   ]
  },
  {
   "cell_type": "code",
   "execution_count": 70,
   "metadata": {},
   "outputs": [],
   "source": [
    "#traning data\n",
    "n = 15 #Number of samples\n",
    "td,tr = writing_data(10000,n,0.5)\n",
    "td = td.reshape(-1,n,n,1)\n",
    "#One hot encoding\n",
    "tr = keras.utils.to_categorical(tr, num_classes= 2)\n",
    "#Splitting data\n",
    "train_x , test_x , train_y , test_y = train_test_split(td , tr , \n",
    "                                            test_size = 0.2 ,\n",
    "                                            random_state = 42)"
   ]
  },
  {
   "cell_type": "code",
   "execution_count": 91,
   "metadata": {},
   "outputs": [],
   "source": [
    "model = keras.Sequential([\n",
    "    keras.layers.Conv2D(50, kernel_size= 2, activation=tf.nn.relu, input_shape=(n,n,1)),\n",
    "    keras.layers.MaxPooling2D(pool_size=(2, 2), strides=(1, 1)),\n",
    "    keras.layers.Flatten(),\n",
    "    keras.layers.Dense(256, activation=tf.nn.relu),\n",
    "    keras.layers.Dense(2, activation=tf.nn.softmax),\n",
    "])\n",
    "model.compile(optimizer='adam', \n",
    "              loss= keras.losses.kullback_leibler_divergence,\n",
    "              metrics=['accuracy'])"
   ]
  },
  {
   "cell_type": "code",
   "execution_count": 92,
   "metadata": {},
   "outputs": [],
   "source": [
    "#Callbacks\n",
    "tbCallBack = keras.callbacks.TensorBoard(log_dir='./Graph', \n",
    "                                         histogram_freq= 1, \n",
    "                                         write_graph= True, \n",
    "                                         write_images= True,\n",
    "                                        update_freq= 'batch')\n",
    "\n",
    "earlystop = keras.callbacks.EarlyStopping(monitor='val_loss',\n",
    "                                          min_delta=0.001,\n",
    "                                          patience=7, \n",
    "                                          verbose=2, \n",
    "                                          mode='min')\n",
    "\n",
    "reduce_lr = keras.callbacks.ReduceLROnPlateau(monitor='val_loss', factor=0.2,\n",
    "                              patience=5, min_lr=0.001)\n",
    "\n",
    "callbacks = [earlystop,tbCallBack, reduce_lr]"
   ]
  },
  {
   "cell_type": "code",
   "execution_count": 93,
   "metadata": {
    "scrolled": true
   },
   "outputs": [
    {
     "name": "stdout",
     "output_type": "stream",
     "text": [
      "Train on 8000 samples, validate on 2000 samples\n",
      "Epoch 1/20\n",
      " - 6s - loss: 1.1141 - acc: 0.4942 - val_loss: 0.6928 - val_acc: 0.4860\n",
      "Epoch 2/20\n",
      " - 6s - loss: 0.6912 - acc: 0.5454 - val_loss: 0.6870 - val_acc: 0.5410\n",
      "Epoch 3/20\n",
      " - 6s - loss: 0.6817 - acc: 0.5485 - val_loss: 0.6747 - val_acc: 0.6965\n",
      "Epoch 4/20\n",
      " - 6s - loss: 0.6725 - acc: 0.5981 - val_loss: 0.6649 - val_acc: 0.5815\n",
      "Epoch 5/20\n",
      " - 6s - loss: 0.6534 - acc: 0.6607 - val_loss: 0.6467 - val_acc: 0.6890\n",
      "Epoch 6/20\n",
      " - 7s - loss: 0.6313 - acc: 0.7019 - val_loss: 0.6226 - val_acc: 0.7075\n",
      "Epoch 7/20\n",
      " - 7s - loss: 0.6050 - acc: 0.7072 - val_loss: 0.5983 - val_acc: 0.7055\n",
      "Epoch 8/20\n",
      " - 8s - loss: 0.5795 - acc: 0.7126 - val_loss: 0.5758 - val_acc: 0.7105\n",
      "Epoch 9/20\n",
      " - 8s - loss: 0.5586 - acc: 0.7134 - val_loss: 0.5624 - val_acc: 0.7110\n",
      "Epoch 10/20\n",
      " - 7s - loss: 0.5448 - acc: 0.7201 - val_loss: 0.5536 - val_acc: 0.7160\n",
      "Epoch 11/20\n",
      " - 7s - loss: 0.5370 - acc: 0.7200 - val_loss: 0.5571 - val_acc: 0.7105\n",
      "Epoch 12/20\n",
      " - 7s - loss: 0.5292 - acc: 0.7275 - val_loss: 0.5482 - val_acc: 0.7190\n",
      "Epoch 13/20\n",
      " - 7s - loss: 0.5304 - acc: 0.7261 - val_loss: 0.5431 - val_acc: 0.7195\n",
      "Epoch 14/20\n",
      " - 9s - loss: 0.5209 - acc: 0.7321 - val_loss: 0.5422 - val_acc: 0.7230\n",
      "Epoch 15/20\n",
      " - 7s - loss: 0.5168 - acc: 0.7364 - val_loss: 0.5420 - val_acc: 0.7225\n",
      "Epoch 16/20\n",
      " - 10s - loss: 0.5151 - acc: 0.7370 - val_loss: 0.5517 - val_acc: 0.7190\n",
      "Epoch 17/20\n",
      " - 9s - loss: 0.5101 - acc: 0.7433 - val_loss: 0.5506 - val_acc: 0.7210\n",
      "Epoch 18/20\n",
      " - 7s - loss: 0.5117 - acc: 0.7425 - val_loss: 0.5595 - val_acc: 0.7125\n",
      "Epoch 19/20\n",
      " - 8s - loss: 0.5095 - acc: 0.7426 - val_loss: 0.5529 - val_acc: 0.7170\n",
      "Epoch 20/20\n",
      " - 8s - loss: 0.5050 - acc: 0.7431 - val_loss: 0.5404 - val_acc: 0.7330\n"
     ]
    }
   ],
   "source": [
    "history = model.fit(train_x,\n",
    "                    train_y, \n",
    "                    epochs = 20,\n",
    "                    batch_size=512,\n",
    "                    verbose = 2,\n",
    "                    validation_data=(test_x, test_y),\n",
    "                    callbacks = callbacks\n",
    "                   )"
   ]
  },
  {
   "cell_type": "code",
   "execution_count": 94,
   "metadata": {
    "scrolled": true
   },
   "outputs": [
    {
     "data": {
      "image/png": "[encoded data removed]",
      "text/plain": [
       "<Figure size 864x360 with 2 Axes>"
      ]
     },
     "metadata": {
      "needs_background": "light"
     },
     "output_type": "display_data"
    }
   ],
   "source": [
    "#accuracy\n",
    "train_accuracy = history.history['acc']\n",
    "validation_accuracy = history.history['val_acc']\n",
    "\n",
    "#loss \n",
    "train_loss = history.history['loss']\n",
    "validation_loss = history.history['val_loss']\n",
    "\n",
    "#Epochs\n",
    "epoch_range = range(1,len(train_accuracy)+1)\n",
    "\n",
    "#Plot\n",
    "fig, ax = plt.subplots(1, 2, figsize=(12,5))\n",
    "\n",
    "ax[0].set_title('Accuracy per Epoch')\n",
    "sns.lineplot(x=epoch_range,y=train_accuracy,marker='o',ax=ax[0])\n",
    "sns.lineplot(x=epoch_range,y=validation_accuracy,marker='o',ax=ax[0])\n",
    "ax[0].legend(['training','validation'])\n",
    "ax[0].set_xlabel('Epoch')\n",
    "ax[0].set_ylabel('Accuracy')\n",
    "ax[1].set_title('Loss per Epoch')\n",
    "sns.lineplot(x=epoch_range,y=train_loss,marker='o',ax=ax[1])\n",
    "sns.lineplot(x=epoch_range,y=validation_loss,marker='o',ax=ax[1])\n",
    "ax[1].legend(['training','validation'])\n",
    "ax[1].set_xlabel('Epoch')\n",
    "ax[1].set_ylabel('Loss')\n",
    "plt.show()"
   ]
  },
  {
   "cell_type": "markdown",
   "metadata": {},
   "source": [
    "# Plotting the order parameter"
   ]
  },
  {
   "cell_type": "code",
   "execution_count": 103,
   "metadata": {},
   "outputs": [
    {
     "data": {
      "image/png": "[encoded data removed]",
      "text/plain": [
       "<Figure size 432x288 with 1 Axes>"
      ]
     },
     "metadata": {
      "needs_background": "light"
     },
     "output_type": "display_data"
    }
   ],
   "source": [
    "probability = np.linspace(0.,1.,40)\n",
    "P_1 = np.zeros(len(probability))\n",
    "P_2 = np.zeros(len(probability))\n",
    "for i,v in enumerate(probability):\n",
    "    #test data\n",
    "    test_mat,test_v = writing_data(100,n,v)\n",
    "    test_mat = test_mat.reshape(-1,n,n,1)     \n",
    "    a = model.predict(test_mat)\n",
    "    o_1 = []\n",
    "    o_2 = []\n",
    "    for samp in a:\n",
    "        o_1.append(samp[0])\n",
    "        o_2.append(samp[1])\n",
    "    P_1[i] = np.mean(o_1)\n",
    "    P_2[i] = np.mean(o_2)\n",
    "    \n",
    "q = plt.plot(probability, P_1, 'o')\n",
    "q = plt.plot(probability, P_2, 'o')"
   ]
  },
  {
   "cell_type": "markdown",
   "metadata": {},
   "source": [
    "# Plotting the probability versus the accuracy of the method"
   ]
  },
  {
   "cell_type": "markdown",
   "metadata": {},
   "source": [
    "We have a plot that shows that the accuracy decreases on the critical probability for the model."
   ]
  },
  {
   "cell_type": "code",
   "execution_count": 104,
   "metadata": {
    "scrolled": true
   },
   "outputs": [
    {
     "data": {
      "image/png": "[encoded data removed]",
      "text/plain": [
       "<Figure size 432x288 with 1 Axes>"
      ]
     },
     "metadata": {
      "needs_background": "light"
     },
     "output_type": "display_data"
    }
   ],
   "source": [
    "probability = np.linspace(0.,1.,40)\n",
    "acc = np.zeros(len(probability))\n",
    "for i,v in enumerate(probability):\n",
    "    #test data\n",
    "    test_mat,test_v = writing_data(100,n,v)\n",
    "    test_mat = test_mat.reshape(-1,n,n,1) \n",
    "    test_v = keras.utils.to_categorical(test_v, num_classes= 2) #One Hot Encoding\n",
    "    #evaluate accuracy\n",
    "    test_loss, test_acc = model.evaluate(test_mat, test_v, verbose = 0)\n",
    "    acc[i] = test_acc\n",
    "\n",
    "q = plt.plot(probability,acc, 'o')"
   ]
  },
  {
   "cell_type": "code",
   "execution_count": 105,
   "metadata": {},
   "outputs": [
    {
     "data": {
      "image/png": "[encoded data removed]",
      "text/plain": [
       "<Figure size 432x288 with 1 Axes>"
      ]
     },
     "metadata": {
      "needs_background": "light"
     },
     "output_type": "display_data"
    }
   ],
   "source": [
    "from scipy.optimize import curve_fit\n",
    "from scipy import asarray as ar,exp\n",
    "\n",
    "def gaus(x,a,x0,sigma):\n",
    "    return a*exp(-(x-x0)**2/(2*sigma**2))\n",
    "x = probability\n",
    "y = 1 - acc\n",
    "\n",
    "popt,pcov = curve_fit(gaus,x,y, p0=[0.5,0.3,1.])\n",
    "plt.plot(x,y,'b+:',label='data')\n",
    "plt.plot(x,gaus(x,*popt),'ro:',label='fit')\n",
    "plt.legend()\n",
    "plt.show()"
   ]
  },
  {
   "cell_type": "markdown",
   "metadata": {},
   "source": [
    "Adjusting a Gaussian we can find the percolation probability."
   ]
  },
  {
   "cell_type": "code",
   "execution_count": 106,
   "metadata": {},
   "outputs": [
    {
     "name": "stdout",
     "output_type": "stream",
     "text": [
      "Percolation probability:0.49578\n"
     ]
    }
   ],
   "source": [
    "print(\"Percolation probability:%.5f\" % popt[1])"
   ]
  },
  {
   "cell_type": "markdown",
   "metadata": {},
   "source": [
    "# Finite Size Scaling"
   ]
  },
  {
   "cell_type": "code",
   "execution_count": null,
   "metadata": {},
   "outputs": [],
   "source": []
  }
 ],
 "metadata": {
  "kernelspec": {
   "display_name": "Python 3",
   "language": "python",
   "name": "python3"
  },
  "language_info": {
   "codemirror_mode": {
    "name": "ipython",
    "version": 3
   },
   "file_extension": ".py",
   "mimetype": "text/x-python",
   "name": "python",
   "nbconvert_exporter": "python",
   "pygments_lexer": "ipython3",
   "version": "3.6.8"
  }
 },
 "nbformat": 4,
 "nbformat_minor": 2
}
