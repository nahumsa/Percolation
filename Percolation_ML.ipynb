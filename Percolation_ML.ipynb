{
 "cells": [
  {
   "cell_type": "code",
   "execution_count": 1,
   "metadata": {},
   "outputs": [],
   "source": [
    "import numpy as np\n",
    "import matplotlib.pyplot as plt\n",
    "import copy as cp\n",
    "import tensorflow as tf\n",
    "from tensorflow import keras\n",
    "import seaborn as sns\n",
    "\n",
    "def grid(n, prob):\n",
    "    \"\"\"\n",
    "    Construct a grid with dimension n with probability prob\n",
    "    \"\"\"\n",
    "    return np.random.choice([0, 1], size=(n, n), p=[prob, 1-prob])\n",
    "\n"
   ]
  },
  {
   "cell_type": "code",
   "execution_count": 5,
   "metadata": {},
   "outputs": [],
   "source": [
    "def writing_data(samples, n, prob):\n",
    "    \"\"\"\n",
    "    samples: number of samples (int)\n",
    "    n: size of matrix  (odd int)\n",
    "    prob: probability of getting 1 or 0 (0<=prob<=1)\n",
    "    \"\"\"\n",
    "    count = 0.\n",
    "    mat = []\n",
    "    vd = np.zeros(samples)\n",
    "    for ind in range(samples):\n",
    "        b = grid(n, prob)\n",
    "        mat.append(cp.copy(b)) #Used copy to not have 2 on the matrix\n",
    "        b[(n-1)//2][(n-1)//2] = 2\n",
    "        stop = False\n",
    "        while not stop:\n",
    "            change = False\n",
    "            for i, j in zip(*np.where(b == 2)):\n",
    "                if i == 0 or j == 0 or i == n - 1 or j == n - 1:\n",
    "                    count += 1\n",
    "                    stop = True\n",
    "                    vd[ind] = 1\n",
    "                    break\n",
    "                if b[i+1, j] == 0:\n",
    "                    b[i+1, j] = 2\n",
    "                    change = True\n",
    "                if b[i, j+1] == 0:\n",
    "                    b[i, j+1] = 2\n",
    "                    change = True\n",
    "                if b[i-1, j] == 0:\n",
    "                    b[i-1, j] = 2\n",
    "                    change = True\n",
    "                if b[i, j-1] == 0:\n",
    "                    b[i, j-1] = 2\n",
    "                    change = True\n",
    "            if not change:\n",
    "                stop = True\n",
    "    return np.array(mat),vd"
   ]
  },
  {
   "cell_type": "markdown",
   "metadata": {},
   "source": [
    "# Build a model"
   ]
  },
  {
   "cell_type": "markdown",
   "metadata": {},
   "source": [
    "In this case I use a simple Neural Network with one input layer and one hidden layer with output 0 (if the matrix don't percolate) or 1 (if the matrix percolate)."
   ]
  },
  {
   "cell_type": "code",
   "execution_count": null,
   "metadata": {},
   "outputs": [],
   "source": [
    "n = 15\n",
    "model = keras.Sequential([\n",
    "    keras.layers.Flatten(input_shape=(n, n)),\n",
    "    keras.layers.Dense(256, activation=tf.nn.relu),\n",
    "    keras.layers.Dense(2, activation=tf.nn.softmax)\n",
    "])\n",
    "model.compile(optimizer='adam', \n",
    "              loss='sparse_categorical_crossentropy',\n",
    "              metrics=['accuracy'])"
   ]
  },
  {
   "cell_type": "markdown",
   "metadata": {},
   "source": [
    "# Make the Training data"
   ]
  },
  {
   "cell_type": "code",
   "execution_count": null,
   "metadata": {},
   "outputs": [],
   "source": [
    "#traning data\n",
    "td,tr = writing_data(1000,n,0.5)"
   ]
  },
  {
   "cell_type": "markdown",
   "metadata": {},
   "source": [
    "# Show sample of data"
   ]
  },
  {
   "cell_type": "code",
   "execution_count": null,
   "metadata": {
    "scrolled": true
   },
   "outputs": [],
   "source": [
    "plt.imshow(td[0])\n",
    "print(tr[0])"
   ]
  },
  {
   "cell_type": "markdown",
   "metadata": {},
   "source": [
    "# Training the model"
   ]
  },
  {
   "cell_type": "code",
   "execution_count": null,
   "metadata": {
    "scrolled": true
   },
   "outputs": [],
   "source": [
    "history = model.fit(td,tr, epochs = 12)"
   ]
  },
  {
   "cell_type": "markdown",
   "metadata": {},
   "source": [
    "# Testing the model"
   ]
  },
  {
   "cell_type": "code",
   "execution_count": null,
   "metadata": {
    "scrolled": false
   },
   "outputs": [],
   "source": [
    "test_mat,test_v = writing_data(100,n,0.6)\n",
    "test_loss, test_acc = model.evaluate(test_mat, test_v)\n",
    "print('Test accuracy:', test_acc)"
   ]
  },
  {
   "cell_type": "markdown",
   "metadata": {},
   "source": [
    "# Plotting the probability versus the accuracy of the method"
   ]
  },
  {
   "cell_type": "markdown",
   "metadata": {},
   "source": [
    "We have a plot that shows that the accuracy decreases on the critical probability for the model.\n",
    "\n",
    "The way to acquire data for the plot is given in the line below the plot"
   ]
  },
  {
   "cell_type": "code",
   "execution_count": null,
   "metadata": {
    "scrolled": true
   },
   "outputs": [],
   "source": [
    "plt.plot(probability,acc, 'o')\n",
    "plt.show()"
   ]
  },
  {
   "cell_type": "code",
   "execution_count": null,
   "metadata": {
    "scrolled": true
   },
   "outputs": [],
   "source": [
    "probability = np.linspace(0.,1.,100)\n",
    "acc = np.zeros(len(probability))\n",
    "for i,v in enumerate(probability):\n",
    "    #test data\n",
    "    test_mat,test_v = writing_data(100,n,v)\n",
    "    #evaluate accuracy\n",
    "    test_loss, test_acc = model.evaluate(test_mat, test_v)\n",
    "    acc[i] = test_acc"
   ]
  },
  {
   "cell_type": "markdown",
   "metadata": {},
   "source": [
    "# Building another model"
   ]
  },
  {
   "cell_type": "markdown",
   "metadata": {},
   "source": [
    "This time I will use Convolutional Neural Networks with 2 convolutional + pooling layers before entering the Neural Network structure that is the same as the previous one."
   ]
  },
  {
   "cell_type": "code",
   "execution_count": 73,
   "metadata": {},
   "outputs": [],
   "source": [
    "#traning data\n",
    "td,tr = writing_data(10000,n,0.5)\n",
    "vd, vr = writing_data(100,n,0.5)\n",
    "td = td.reshape(-1,n,n,1)\n",
    "vd = vd.reshape(-1,n,n,1)"
   ]
  },
  {
   "cell_type": "code",
   "execution_count": 91,
   "metadata": {},
   "outputs": [],
   "source": [
    "n = 15\n",
    "model = keras.Sequential([\n",
    "    keras.layers.Conv2D(64, kernel_size= 3, activation=tf.nn.relu, input_shape=(n,n,1)),\n",
    "    keras.layers.MaxPooling2D(pool_size=(2, 2), strides=(2, 2)),\n",
    "    keras.layers.Flatten(),\n",
    "    keras.layers.Dense(256, activation=tf.nn.relu),\n",
    "    keras.layers.Dense(2, kernel_regularizer=keras.regularizers.l2(0.001), activation=tf.nn.softmax),\n",
    "])\n",
    "model.compile(optimizer='adam', \n",
    "              loss='sparse_categorical_crossentropy',\n",
    "              metrics=['accuracy'])"
   ]
  },
  {
   "cell_type": "code",
   "execution_count": 92,
   "metadata": {
    "scrolled": true
   },
   "outputs": [
    {
     "name": "stdout",
     "output_type": "stream",
     "text": [
      "Train on 10000 samples, validate on 100 samples\n",
      "Epoch 1/50\n",
      "10000/10000 [==============================] - 3s 326us/sample - loss: 0.7563 - acc: 0.5011 - val_loss: 0.7011 - val_acc: 0.5200\n",
      "Epoch 2/50\n",
      "10000/10000 [==============================] - 2s 244us/sample - loss: 0.6871 - acc: 0.5378 - val_loss: 0.6882 - val_acc: 0.5200\n",
      "Epoch 3/50\n",
      "10000/10000 [==============================] - 2s 246us/sample - loss: 0.6673 - acc: 0.5902 - val_loss: 0.6650 - val_acc: 0.5600\n",
      "Epoch 4/50\n",
      "10000/10000 [==============================] - 3s 266us/sample - loss: 0.6302 - acc: 0.6882 - val_loss: 0.6306 - val_acc: 0.6600\n",
      "Epoch 5/50\n",
      "10000/10000 [==============================] - 3s 251us/sample - loss: 0.5818 - acc: 0.7190 - val_loss: 0.6025 - val_acc: 0.6500\n",
      "Epoch 6/50\n",
      "10000/10000 [==============================] - 3s 256us/sample - loss: 0.5485 - acc: 0.7236 - val_loss: 0.5859 - val_acc: 0.6800\n",
      "Epoch 7/50\n",
      "10000/10000 [==============================] - 3s 255us/sample - loss: 0.5366 - acc: 0.7323 - val_loss: 0.5799 - val_acc: 0.6500\n",
      "Epoch 8/50\n",
      "10000/10000 [==============================] - 3s 253us/sample - loss: 0.5227 - acc: 0.7384 - val_loss: 0.5725 - val_acc: 0.7100\n",
      "Epoch 9/50\n",
      "10000/10000 [==============================] - 3s 252us/sample - loss: 0.5163 - acc: 0.7427 - val_loss: 0.5742 - val_acc: 0.7000\n",
      "Epoch 10/50\n",
      "10000/10000 [==============================] - 3s 252us/sample - loss: 0.5108 - acc: 0.7473 - val_loss: 0.5605 - val_acc: 0.7100\n",
      "Epoch 11/50\n",
      "10000/10000 [==============================] - 3s 254us/sample - loss: 0.5022 - acc: 0.7520 - val_loss: 0.5553 - val_acc: 0.7000\n",
      "Epoch 12/50\n",
      "10000/10000 [==============================] - 3s 252us/sample - loss: 0.5003 - acc: 0.7542 - val_loss: 0.5539 - val_acc: 0.7100\n",
      "Epoch 13/50\n",
      "10000/10000 [==============================] - 3s 253us/sample - loss: 0.4950 - acc: 0.7583 - val_loss: 0.5492 - val_acc: 0.7300\n",
      "Epoch 14/50\n",
      "10000/10000 [==============================] - 3s 253us/sample - loss: 0.4890 - acc: 0.7608 - val_loss: 0.5469 - val_acc: 0.7300\n",
      "Epoch 15/50\n",
      "10000/10000 [==============================] - 3s 253us/sample - loss: 0.4803 - acc: 0.7658 - val_loss: 0.5437 - val_acc: 0.7400\n",
      "Epoch 16/50\n",
      "10000/10000 [==============================] - 3s 253us/sample - loss: 0.4755 - acc: 0.7689 - val_loss: 0.5422 - val_acc: 0.7100\n",
      "Epoch 17/50\n",
      "10000/10000 [==============================] - 3s 256us/sample - loss: 0.4711 - acc: 0.7715 - val_loss: 0.5407 - val_acc: 0.7400\n",
      "Epoch 18/50\n",
      "10000/10000 [==============================] - 3s 258us/sample - loss: 0.4644 - acc: 0.7732 - val_loss: 0.5371 - val_acc: 0.7200\n",
      "Epoch 19/50\n",
      "10000/10000 [==============================] - 3s 253us/sample - loss: 0.4600 - acc: 0.7788 - val_loss: 0.5360 - val_acc: 0.7200\n",
      "Epoch 20/50\n",
      "10000/10000 [==============================] - 3s 253us/sample - loss: 0.4559 - acc: 0.7790 - val_loss: 0.5348 - val_acc: 0.7600\n",
      "Epoch 21/50\n",
      "10000/10000 [==============================] - 3s 256us/sample - loss: 0.4507 - acc: 0.7857 - val_loss: 0.5330 - val_acc: 0.7200\n",
      "Epoch 22/50\n",
      "10000/10000 [==============================] - 3s 255us/sample - loss: 0.4448 - acc: 0.7901 - val_loss: 0.5318 - val_acc: 0.7500\n",
      "Epoch 23/50\n",
      "10000/10000 [==============================] - 3s 255us/sample - loss: 0.4414 - acc: 0.7909 - val_loss: 0.5303 - val_acc: 0.7400\n",
      "Epoch 24/50\n",
      "10000/10000 [==============================] - 3s 253us/sample - loss: 0.4365 - acc: 0.7919 - val_loss: 0.5347 - val_acc: 0.7000\n",
      "Epoch 25/50\n",
      "10000/10000 [==============================] - 3s 256us/sample - loss: 0.4317 - acc: 0.7978 - val_loss: 0.5372 - val_acc: 0.7400\n",
      "Epoch 26/50\n",
      "10000/10000 [==============================] - 3s 278us/sample - loss: 0.4296 - acc: 0.7999 - val_loss: 0.5322 - val_acc: 0.7300\n",
      "Epoch 27/50\n",
      "10000/10000 [==============================] - 3s 264us/sample - loss: 0.4229 - acc: 0.8030 - val_loss: 0.5510 - val_acc: 0.6800\n",
      "Epoch 28/50\n",
      "10000/10000 [==============================] - 3s 256us/sample - loss: 0.4274 - acc: 0.7995 - val_loss: 0.5330 - val_acc: 0.7300\n",
      "Epoch 29/50\n",
      "10000/10000 [==============================] - 3s 256us/sample - loss: 0.4158 - acc: 0.8104 - val_loss: 0.5375 - val_acc: 0.7400\n",
      "Epoch 30/50\n",
      "10000/10000 [==============================] - 3s 259us/sample - loss: 0.4111 - acc: 0.8130 - val_loss: 0.5386 - val_acc: 0.7300\n",
      "Epoch 31/50\n",
      "10000/10000 [==============================] - 3s 272us/sample - loss: 0.4077 - acc: 0.8167 - val_loss: 0.5463 - val_acc: 0.7100\n",
      "Epoch 32/50\n",
      "10000/10000 [==============================] - 3s 264us/sample - loss: 0.4115 - acc: 0.8125 - val_loss: 0.5416 - val_acc: 0.7200\n",
      "Epoch 33/50\n",
      "10000/10000 [==============================] - 3s 257us/sample - loss: 0.4031 - acc: 0.8159 - val_loss: 0.5415 - val_acc: 0.7500\n",
      "Epoch 34/50\n",
      "10000/10000 [==============================] - 3s 256us/sample - loss: 0.3981 - acc: 0.8203 - val_loss: 0.5458 - val_acc: 0.7300\n",
      "Epoch 35/50\n",
      "10000/10000 [==============================] - 3s 255us/sample - loss: 0.4019 - acc: 0.8165 - val_loss: 0.5490 - val_acc: 0.7100\n",
      "Epoch 36/50\n",
      "10000/10000 [==============================] - 3s 253us/sample - loss: 0.3930 - acc: 0.8242 - val_loss: 0.5569 - val_acc: 0.7200\n",
      "Epoch 37/50\n",
      "10000/10000 [==============================] - 3s 256us/sample - loss: 0.4000 - acc: 0.8194 - val_loss: 0.5471 - val_acc: 0.7400\n",
      "Epoch 38/50\n",
      "10000/10000 [==============================] - 3s 259us/sample - loss: 0.3910 - acc: 0.8206 - val_loss: 0.5556 - val_acc: 0.6900\n",
      "Epoch 39/50\n",
      "10000/10000 [==============================] - 3s 257us/sample - loss: 0.3836 - acc: 0.8270 - val_loss: 0.5658 - val_acc: 0.7000\n",
      "Epoch 40/50\n",
      "10000/10000 [==============================] - 3s 277us/sample - loss: 0.3872 - acc: 0.8248 - val_loss: 0.5716 - val_acc: 0.7100\n",
      "Epoch 41/50\n",
      "10000/10000 [==============================] - 3s 320us/sample - loss: 0.3823 - acc: 0.8295 - val_loss: 0.5566 - val_acc: 0.7500\n",
      "Epoch 42/50\n",
      "10000/10000 [==============================] - 3s 329us/sample - loss: 0.3751 - acc: 0.8312 - val_loss: 0.5530 - val_acc: 0.7500\n",
      "Epoch 43/50\n",
      "10000/10000 [==============================] - 3s 260us/sample - loss: 0.3762 - acc: 0.8301 - val_loss: 0.5594 - val_acc: 0.7400\n",
      "Epoch 44/50\n",
      "10000/10000 [==============================] - 3s 256us/sample - loss: 0.3688 - acc: 0.8352 - val_loss: 0.5744 - val_acc: 0.7300\n",
      "Epoch 45/50\n",
      "10000/10000 [==============================] - 3s 257us/sample - loss: 0.3727 - acc: 0.8314 - val_loss: 0.5775 - val_acc: 0.6900\n",
      "Epoch 46/50\n",
      "10000/10000 [==============================] - 3s 268us/sample - loss: 0.3676 - acc: 0.8375 - val_loss: 0.5611 - val_acc: 0.7600\n",
      "Epoch 47/50\n",
      "10000/10000 [==============================] - 3s 257us/sample - loss: 0.3602 - acc: 0.8391 - val_loss: 0.5680 - val_acc: 0.7200\n",
      "Epoch 48/50\n",
      "10000/10000 [==============================] - 3s 260us/sample - loss: 0.3660 - acc: 0.8345 - val_loss: 0.5640 - val_acc: 0.7600\n",
      "Epoch 49/50\n",
      "10000/10000 [==============================] - 3s 260us/sample - loss: 0.3701 - acc: 0.8374 - val_loss: 0.5700 - val_acc: 0.7300\n",
      "Epoch 50/50\n",
      "10000/10000 [==============================] - 3s 279us/sample - loss: 0.3615 - acc: 0.8419 - val_loss: 0.5715 - val_acc: 0.7700\n"
     ]
    }
   ],
   "source": [
    "history = model.fit(td,\n",
    "                    tr, \n",
    "                    epochs = 50,\n",
    "                    batch_size=512,\n",
    "                 validation_data=(vd, vr))"
   ]
  },
  {
   "cell_type": "code",
   "execution_count": 90,
   "metadata": {},
   "outputs": [
    {
     "data": {
      "image/png": "[encoded data removed]",
      "text/plain": [
       "<Figure size 864x360 with 2 Axes>"
      ]
     },
     "metadata": {
      "needs_background": "light"
     },
     "output_type": "display_data"
    }
   ],
   "source": [
    "#accuracy\n",
    "train_accuracy = history.history['acc']\n",
    "validation_accuracy = history.history['val_acc']\n",
    "\n",
    "#loss \n",
    "train_loss = history.history['loss']\n",
    "validation_loss = history.history['val_loss']\n",
    "\n",
    "#Epochs\n",
    "epoch_range = range(1,len(train_accuracy)+1)\n",
    "\n",
    "#Plot\n",
    "fig, ax = plt.subplots(1, 2, figsize=(12,5))\n",
    "\n",
    "ax[0].set_title('Accuracy per Epoch')\n",
    "sns.lineplot(x=epoch_range,y=train_accuracy,marker='o',ax=ax[0])\n",
    "sns.lineplot(x=epoch_range,y=validation_accuracy,marker='o',ax=ax[0])\n",
    "ax[0].legend(['training','validation'])\n",
    "ax[0].set_xlabel('Epoch')\n",
    "ax[0].set_ylabel('Accuracy')\n",
    "ax[1].set_title('Loss per Epoch')\n",
    "sns.lineplot(x=epoch_range,y=train_loss,marker='o',ax=ax[1])\n",
    "sns.lineplot(x=epoch_range,y=validation_loss,marker='o',ax=ax[1])\n",
    "ax[1].legend(['training','validation'])\n",
    "ax[1].set_xlabel('Epoch')\n",
    "ax[1].set_ylabel('Loss')\n",
    "plt.show()"
   ]
  },
  {
   "cell_type": "markdown",
   "metadata": {},
   "source": [
    "# Plotting the probability versus the accuracy of the method"
   ]
  },
  {
   "cell_type": "markdown",
   "metadata": {},
   "source": [
    "We have a plot that shows that the accuracy decreases on the critical probability for the model.\n",
    "\n",
    "The way to acquire data for the plot is given in the line below the plot"
   ]
  },
  {
   "cell_type": "code",
   "execution_count": null,
   "metadata": {
    "scrolled": false
   },
   "outputs": [],
   "source": [
    "plt.plot(probability,acc, 'o')\n",
    "plt.show()"
   ]
  },
  {
   "cell_type": "markdown",
   "metadata": {},
   "source": [
    "Adjusting a Gaussian, the percolation probability is given by"
   ]
  },
  {
   "cell_type": "code",
   "execution_count": null,
   "metadata": {},
   "outputs": [],
   "source": [
    "print(\"Percolation probability:%.5f\" % popt[1])"
   ]
  },
  {
   "cell_type": "code",
   "execution_count": null,
   "metadata": {
    "scrolled": true
   },
   "outputs": [],
   "source": [
    "probability = np.linspace(0.,1.,50)\n",
    "acc = np.zeros(len(probability))\n",
    "for i,v in enumerate(probability):\n",
    "    #test data\n",
    "    test_mat,test_v = writing_data(100,n,v)\n",
    "    test_mat = test_mat.reshape(-1,n,n,1) \n",
    "    #evaluate accuracy\n",
    "    test_loss, test_acc = model.evaluate(test_mat, test_v)\n",
    "    acc[i] = test_acc"
   ]
  },
  {
   "cell_type": "code",
   "execution_count": null,
   "metadata": {},
   "outputs": [],
   "source": [
    "from scipy.optimize import curve_fit\n",
    "from scipy import asarray as ar,exp\n",
    "\n",
    "def gaus(x,a,x0,sigma):\n",
    "    return a*exp(-(x-x0)**2/(2*sigma**2))\n",
    "x = probability\n",
    "y = 1 - acc\n",
    "\n",
    "popt,pcov = curve_fit(gaus,x,y, p0=[0.5,0.3,1.])\n",
    "plt.plot(x,y,'b+:',label='data')\n",
    "plt.plot(x,gaus(x,*popt),'ro:',label='fit')\n",
    "plt.legend()\n",
    "plt.show()"
   ]
  },
  {
   "cell_type": "code",
   "execution_count": null,
   "metadata": {
    "scrolled": true
   },
   "outputs": [],
   "source": [
    "print(\"Percolation probability:%.5f\" % popt[1])"
   ]
  },
  {
   "cell_type": "code",
   "execution_count": null,
   "metadata": {},
   "outputs": [],
   "source": []
  }
 ],
 "metadata": {
  "kernelspec": {
   "display_name": "Python 3",
   "language": "python",
   "name": "python3"
  },
  "language_info": {
   "codemirror_mode": {
    "name": "ipython",
    "version": 3
   },
   "file_extension": ".py",
   "mimetype": "text/x-python",
   "name": "python",
   "nbconvert_exporter": "python",
   "pygments_lexer": "ipython3",
   "version": "3.6.8"
  }
 },
 "nbformat": 4,
 "nbformat_minor": 2
}
