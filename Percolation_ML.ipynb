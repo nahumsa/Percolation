{
 "cells": [
  {
   "cell_type": "code",
   "execution_count": 1,
   "metadata": {},
   "outputs": [],
   "source": [
    "import numpy as np\n",
    "import matplotlib.pyplot as plt\n",
    "import copy as cp\n",
    "import tensorflow as tf\n",
    "from tensorflow import keras\n",
    "\n",
    "def grid(n, prob):\n",
    "    \"\"\"\n",
    "    Construct a grid with dimension n with probability prob\n",
    "    \"\"\"\n",
    "    return np.random.choice([0, 1], size=(n, n), p=[prob, 1-prob])\n",
    "\n"
   ]
  },
  {
   "cell_type": "code",
   "execution_count": 2,
   "metadata": {},
   "outputs": [],
   "source": [
    "def writing_data(samples, n, prob):\n",
    "    \"\"\"\n",
    "    samples: number of samples (int)\n",
    "    n: size of matrix  (odd int)\n",
    "    prob: probability of getting 1 or 0 (0<=prob<=1)\n",
    "    \"\"\"\n",
    "    count = 0.\n",
    "    mat = []\n",
    "    vd = np.zeros(samples)\n",
    "    for ind in range(samples):\n",
    "        b = grid(n, prob)\n",
    "        mat.append(cp.copy(b)) #Used copy to not have 2 on the matrix\n",
    "        b[(n-1)//2][(n-1)//2] = 2\n",
    "        stop = False\n",
    "        while not stop:\n",
    "            change = False\n",
    "            for i, j in zip(*np.where(b == 2)):\n",
    "                if i == 0 or j == 0 or i == n - 1 or j == n - 1:\n",
    "                    count += 1\n",
    "                    stop = True\n",
    "                    vd[ind] = 1\n",
    "                    break\n",
    "                if b[i+1, j] == 0:\n",
    "                    b[i+1, j] = 2\n",
    "                    change = True\n",
    "                if b[i, j+1] == 0:\n",
    "                    b[i, j+1] = 2\n",
    "                    change = True\n",
    "                if b[i-1, j] == 0:\n",
    "                    b[i-1, j] = 2\n",
    "                    change = True\n",
    "                if b[i, j-1] == 0:\n",
    "                    b[i, j-1] = 2\n",
    "                    change = True\n",
    "            if not change:\n",
    "                stop = True\n",
    "    return np.array(mat),vd"
   ]
  },
  {
   "cell_type": "markdown",
   "metadata": {},
   "source": [
    "# Build a model"
   ]
  },
  {
   "cell_type": "markdown",
   "metadata": {},
   "source": [
    "In this case I use a simple Neural Network with one input layer and one hidden layer with output 0 (if the matrix don't percolate) or 1 (if the matrix percolate)."
   ]
  },
  {
   "cell_type": "code",
   "execution_count": 3,
   "metadata": {},
   "outputs": [
    {
     "name": "stdout",
     "output_type": "stream",
     "text": [
      "WARNING:tensorflow:From /home/nahum/anaconda2/lib/python2.7/site-packages/tensorflow/python/ops/resource_variable_ops.py:435: colocate_with (from tensorflow.python.framework.ops) is deprecated and will be removed in a future version.\n",
      "Instructions for updating:\n",
      "Colocations handled automatically by placer.\n"
     ]
    }
   ],
   "source": [
    "n = 15\n",
    "model = keras.Sequential([\n",
    "    keras.layers.Flatten(input_shape=(n, n)),\n",
    "    keras.layers.Dense(256, activation=tf.nn.relu),\n",
    "    keras.layers.Dense(2, activation=tf.nn.softmax)\n",
    "])\n",
    "model.compile(optimizer='adam', \n",
    "              loss='sparse_categorical_crossentropy',\n",
    "              metrics=['accuracy'])"
   ]
  },
  {
   "cell_type": "markdown",
   "metadata": {},
   "source": [
    "# Make the Training data"
   ]
  },
  {
   "cell_type": "code",
   "execution_count": 4,
   "metadata": {},
   "outputs": [],
   "source": [
    "#traning data\n",
    "td,tr = writing_data(1000,n,0.5)"
   ]
  },
  {
   "cell_type": "markdown",
   "metadata": {},
   "source": [
    "# Show sample of data"
   ]
  },
  {
   "cell_type": "code",
   "execution_count": 5,
   "metadata": {
    "scrolled": true
   },
   "outputs": [
    {
     "name": "stdout",
     "output_type": "stream",
     "text": [
      "1.0\n"
     ]
    },
    {
     "data": {
      "image/png": "[encoded data removed]",
      "text/plain": [
       "<Figure size 432x288 with 1 Axes>"
      ]
     },
     "metadata": {
      "needs_background": "light"
     },
     "output_type": "display_data"
    }
   ],
   "source": [
    "plt.imshow(td[0])\n",
    "print(tr[0])"
   ]
  },
  {
   "cell_type": "markdown",
   "metadata": {},
   "source": [
    "# Training the model"
   ]
  },
  {
   "cell_type": "code",
   "execution_count": 6,
   "metadata": {
    "scrolled": true
   },
   "outputs": [
    {
     "name": "stdout",
     "output_type": "stream",
     "text": [
      "Epoch 1/12\n",
      "1000/1000 [==============================] - 0s 221us/sample - loss: 0.7419 - acc: 0.5170\n",
      "Epoch 2/12\n",
      "1000/1000 [==============================] - 0s 95us/sample - loss: 0.5983 - acc: 0.6730\n",
      "Epoch 3/12\n",
      "1000/1000 [==============================] - 0s 92us/sample - loss: 0.5302 - acc: 0.7530\n",
      "Epoch 4/12\n",
      "1000/1000 [==============================] - 0s 96us/sample - loss: 0.4934 - acc: 0.7760\n",
      "Epoch 5/12\n",
      "1000/1000 [==============================] - 0s 107us/sample - loss: 0.4253 - acc: 0.8220\n",
      "Epoch 6/12\n",
      "1000/1000 [==============================] - 0s 93us/sample - loss: 0.3804 - acc: 0.8520\n",
      "Epoch 7/12\n",
      "1000/1000 [==============================] - 0s 97us/sample - loss: 0.3341 - acc: 0.8850\n",
      "Epoch 8/12\n",
      "1000/1000 [==============================] - 0s 103us/sample - loss: 0.2708 - acc: 0.9300\n",
      "Epoch 9/12\n",
      "1000/1000 [==============================] - 0s 93us/sample - loss: 0.2451 - acc: 0.9380\n",
      "Epoch 10/12\n",
      "1000/1000 [==============================] - 0s 102us/sample - loss: 0.1905 - acc: 0.9740\n",
      "Epoch 11/12\n",
      "1000/1000 [==============================] - 0s 109us/sample - loss: 0.1466 - acc: 0.9910\n",
      "Epoch 12/12\n",
      "1000/1000 [==============================] - 0s 100us/sample - loss: 0.1161 - acc: 0.9940\n"
     ]
    },
    {
     "data": {
      "text/plain": [
       "<tensorflow.python.keras.callbacks.History at 0x7f39206ce390>"
      ]
     },
     "execution_count": 6,
     "metadata": {},
     "output_type": "execute_result"
    }
   ],
   "source": [
    "model.fit(td,tr, epochs = 12)"
   ]
  },
  {
   "cell_type": "markdown",
   "metadata": {},
   "source": [
    "# Testing the model"
   ]
  },
  {
   "cell_type": "code",
   "execution_count": 7,
   "metadata": {
    "scrolled": false
   },
   "outputs": [
    {
     "name": "stdout",
     "output_type": "stream",
     "text": [
      "100/100 [==============================] - 0s 644us/sample - loss: 0.5893 - acc: 0.7200\n",
      "('Test accuracy:', 0.72)\n"
     ]
    }
   ],
   "source": [
    "test_mat,test_v = writing_data(100,n,0.6)\n",
    "test_loss, test_acc = model.evaluate(test_mat, test_v)\n",
    "print('Test accuracy:', test_acc)"
   ]
  },
  {
   "cell_type": "markdown",
   "metadata": {},
   "source": [
    "# Plotting the probability versus the accuracy of the method"
   ]
  },
  {
   "cell_type": "markdown",
   "metadata": {},
   "source": [
    "We have a plot that shows that the accuracy decreases on the critical probability for the model.\n",
    "\n",
    "The way to acquire data for the plot is given in the line below the plot"
   ]
  },
  {
   "cell_type": "code",
   "execution_count": 9,
   "metadata": {
    "scrolled": true
   },
   "outputs": [
    {
     "data": {
      "image/png": "[encoded data removed]",
      "text/plain": [
       "<Figure size 432x288 with 1 Axes>"
      ]
     },
     "metadata": {
      "needs_background": "light"
     },
     "output_type": "display_data"
    }
   ],
   "source": [
    "plt.plot(probability,acc, 'o')\n",
    "plt.show()"
   ]
  },
  {
   "cell_type": "code",
   "execution_count": 8,
   "metadata": {
    "scrolled": true
   },
   "outputs": [
    {
     "name": "stdout",
     "output_type": "stream",
     "text": [
      "100/100 [==============================] - 0s 109us/sample - loss: 0.0205 - acc: 1.0000\n",
      "100/100 [==============================] - 0s 81us/sample - loss: 0.0257 - acc: 1.0000\n",
      "100/100 [==============================] - 0s 115us/sample - loss: 0.0327 - acc: 1.0000\n",
      "100/100 [==============================] - 0s 76us/sample - loss: 0.0439 - acc: 1.0000\n",
      "100/100 [==============================] - 0s 102us/sample - loss: 0.0514 - acc: 1.0000\n",
      "100/100 [==============================] - 0s 80us/sample - loss: 0.0599 - acc: 1.0000\n",
      "100/100 [==============================] - 0s 110us/sample - loss: 0.0739 - acc: 1.0000\n",
      "100/100 [==============================] - 0s 66us/sample - loss: 0.1006 - acc: 0.9900\n",
      "100/100 [==============================] - 0s 58us/sample - loss: 0.1342 - acc: 0.9800\n",
      "100/100 [==============================] - 0s 58us/sample - loss: 0.1339 - acc: 0.9800\n",
      "100/100 [==============================] - 0s 72us/sample - loss: 0.1251 - acc: 0.9900\n",
      "100/100 [==============================] - 0s 78us/sample - loss: 0.1755 - acc: 0.9300\n",
      "100/100 [==============================] - 0s 68us/sample - loss: 0.1955 - acc: 0.9500\n",
      "100/100 [==============================] - 0s 58us/sample - loss: 0.2479 - acc: 0.9200\n",
      "100/100 [==============================] - 0s 58us/sample - loss: 0.2947 - acc: 0.8900\n",
      "100/100 [==============================] - 0s 77us/sample - loss: 0.2438 - acc: 0.9100\n",
      "100/100 [==============================] - 0s 65us/sample - loss: 0.2779 - acc: 0.9000\n",
      "100/100 [==============================] - 0s 60us/sample - loss: 0.3346 - acc: 0.8400\n",
      "100/100 [==============================] - 0s 64us/sample - loss: 0.2911 - acc: 0.8600\n",
      "100/100 [==============================] - 0s 90us/sample - loss: 0.5723 - acc: 0.7100\n",
      "100/100 [==============================] - 0s 62us/sample - loss: 0.4196 - acc: 0.8000\n",
      "100/100 [==============================] - 0s 90us/sample - loss: 0.4707 - acc: 0.7400\n",
      "100/100 [==============================] - 0s 68us/sample - loss: 0.5243 - acc: 0.7200\n",
      "100/100 [==============================] - 0s 92us/sample - loss: 0.5455 - acc: 0.7200\n",
      "100/100 [==============================] - 0s 73us/sample - loss: 0.6655 - acc: 0.6700\n",
      "100/100 [==============================] - 0s 62us/sample - loss: 0.6362 - acc: 0.7500\n",
      "100/100 [==============================] - 0s 63us/sample - loss: 0.6525 - acc: 0.7100\n",
      "100/100 [==============================] - 0s 62us/sample - loss: 0.5765 - acc: 0.7600\n",
      "100/100 [==============================] - 0s 62us/sample - loss: 0.6276 - acc: 0.6700\n",
      "100/100 [==============================] - 0s 70us/sample - loss: 0.8542 - acc: 0.6100\n",
      "100/100 [==============================] - 0s 67us/sample - loss: 0.7921 - acc: 0.6400\n",
      "100/100 [==============================] - 0s 65us/sample - loss: 0.7391 - acc: 0.6300\n",
      "100/100 [==============================] - 0s 79us/sample - loss: 0.8697 - acc: 0.5600\n",
      "100/100 [==============================] - 0s 89us/sample - loss: 0.8394 - acc: 0.6000\n",
      "100/100 [==============================] - 0s 77us/sample - loss: 1.0807 - acc: 0.5100\n",
      "100/100 [==============================] - 0s 58us/sample - loss: 0.9913 - acc: 0.5300\n",
      "100/100 [==============================] - 0s 62us/sample - loss: 0.8281 - acc: 0.5800\n",
      "100/100 [==============================] - 0s 69us/sample - loss: 1.1388 - acc: 0.5000\n",
      "100/100 [==============================] - 0s 93us/sample - loss: 0.8629 - acc: 0.5800\n",
      "100/100 [==============================] - 0s 84us/sample - loss: 1.0723 - acc: 0.6100\n",
      "100/100 [==============================] - 0s 87us/sample - loss: 0.9980 - acc: 0.5200\n",
      "100/100 [==============================] - 0s 88us/sample - loss: 0.9139 - acc: 0.5900\n",
      "100/100 [==============================] - 0s 80us/sample - loss: 1.0404 - acc: 0.4800\n",
      "100/100 [==============================] - 0s 79us/sample - loss: 1.0320 - acc: 0.5300\n",
      "100/100 [==============================] - 0s 90us/sample - loss: 0.8972 - acc: 0.6400\n",
      "100/100 [==============================] - 0s 87us/sample - loss: 0.9855 - acc: 0.5900\n",
      "100/100 [==============================] - 0s 99us/sample - loss: 0.9752 - acc: 0.5800\n",
      "100/100 [==============================] - 0s 88us/sample - loss: 0.8873 - acc: 0.5700\n",
      "100/100 [==============================] - 0s 88us/sample - loss: 0.9857 - acc: 0.5500\n",
      "100/100 [==============================] - 0s 70us/sample - loss: 0.8361 - acc: 0.6000\n",
      "100/100 [==============================] - 0s 103us/sample - loss: 0.8048 - acc: 0.6400\n",
      "100/100 [==============================] - 0s 95us/sample - loss: 0.8248 - acc: 0.6900\n",
      "100/100 [==============================] - 0s 81us/sample - loss: 0.7577 - acc: 0.6600\n",
      "100/100 [==============================] - 0s 62us/sample - loss: 0.8532 - acc: 0.6400\n",
      "100/100 [==============================] - 0s 79us/sample - loss: 0.7593 - acc: 0.6700\n",
      "100/100 [==============================] - 0s 82us/sample - loss: 0.5734 - acc: 0.7300\n",
      "100/100 [==============================] - 0s 80us/sample - loss: 0.6602 - acc: 0.6600\n",
      "100/100 [==============================] - 0s 76us/sample - loss: 0.6848 - acc: 0.6800\n",
      "100/100 [==============================] - 0s 71us/sample - loss: 0.5317 - acc: 0.7400\n",
      "100/100 [==============================] - 0s 91us/sample - loss: 0.7272 - acc: 0.6500\n",
      "100/100 [==============================] - 0s 82us/sample - loss: 0.7936 - acc: 0.6100\n",
      "100/100 [==============================] - 0s 70us/sample - loss: 0.4741 - acc: 0.7300\n",
      "100/100 [==============================] - 0s 96us/sample - loss: 0.5711 - acc: 0.7600\n",
      "100/100 [==============================] - 0s 73us/sample - loss: 0.6336 - acc: 0.7200\n",
      "100/100 [==============================] - 0s 91us/sample - loss: 0.5247 - acc: 0.7700\n",
      "100/100 [==============================] - 0s 90us/sample - loss: 0.5184 - acc: 0.7600\n",
      "100/100 [==============================] - 0s 83us/sample - loss: 0.5585 - acc: 0.7000\n",
      "100/100 [==============================] - 0s 75us/sample - loss: 0.5174 - acc: 0.7900\n",
      "100/100 [==============================] - 0s 84us/sample - loss: 0.5126 - acc: 0.7200\n",
      "100/100 [==============================] - 0s 84us/sample - loss: 0.4636 - acc: 0.7500\n",
      "100/100 [==============================] - 0s 69us/sample - loss: 0.5423 - acc: 0.7500\n",
      "100/100 [==============================] - 0s 85us/sample - loss: 0.4585 - acc: 0.8000\n",
      "100/100 [==============================] - 0s 81us/sample - loss: 0.5210 - acc: 0.8000\n",
      "100/100 [==============================] - 0s 90us/sample - loss: 0.4772 - acc: 0.7400\n",
      "100/100 [==============================] - 0s 90us/sample - loss: 0.3496 - acc: 0.8600\n",
      "100/100 [==============================] - 0s 78us/sample - loss: 0.5169 - acc: 0.7300\n",
      "100/100 [==============================] - 0s 74us/sample - loss: 0.4588 - acc: 0.7700\n",
      "100/100 [==============================] - 0s 74us/sample - loss: 0.4130 - acc: 0.8100\n",
      "100/100 [==============================] - 0s 101us/sample - loss: 0.3868 - acc: 0.8200\n",
      "100/100 [==============================] - 0s 86us/sample - loss: 0.4077 - acc: 0.8300\n",
      "100/100 [==============================] - 0s 80us/sample - loss: 0.3657 - acc: 0.8500\n",
      "100/100 [==============================] - 0s 97us/sample - loss: 0.3340 - acc: 0.8500\n",
      "100/100 [==============================] - 0s 80us/sample - loss: 0.3278 - acc: 0.8500\n",
      "100/100 [==============================] - 0s 74us/sample - loss: 0.3487 - acc: 0.8000\n",
      "100/100 [==============================] - 0s 97us/sample - loss: 0.3908 - acc: 0.8200\n",
      "100/100 [==============================] - 0s 72us/sample - loss: 0.4383 - acc: 0.7600\n",
      "100/100 [==============================] - 0s 74us/sample - loss: 0.2789 - acc: 0.9300\n",
      "100/100 [==============================] - 0s 69us/sample - loss: 0.3733 - acc: 0.8400\n",
      "100/100 [==============================] - 0s 80us/sample - loss: 0.3407 - acc: 0.8700\n",
      "100/100 [==============================] - 0s 77us/sample - loss: 0.3204 - acc: 0.8800\n",
      "100/100 [==============================] - 0s 81us/sample - loss: 0.3447 - acc: 0.8600\n",
      "100/100 [==============================] - 0s 75us/sample - loss: 0.3644 - acc: 0.8600\n",
      "100/100 [==============================] - 0s 68us/sample - loss: 0.3240 - acc: 0.8700\n",
      "100/100 [==============================] - 0s 89us/sample - loss: 0.2829 - acc: 0.9400\n"
     ]
    },
    {
     "name": "stdout",
     "output_type": "stream",
     "text": [
      "100/100 [==============================] - 0s 64us/sample - loss: 0.3084 - acc: 0.9000\n",
      "100/100 [==============================] - 0s 73us/sample - loss: 0.3482 - acc: 0.9000\n",
      "100/100 [==============================] - 0s 85us/sample - loss: 0.3720 - acc: 0.9100\n",
      "100/100 [==============================] - 0s 76us/sample - loss: 0.3662 - acc: 0.9500\n",
      "100/100 [==============================] - 0s 72us/sample - loss: 0.3962 - acc: 0.9800\n",
      "100/100 [==============================] - 0s 75us/sample - loss: 0.4687 - acc: 1.0000\n"
     ]
    }
   ],
   "source": [
    "probability = np.linspace(0.,1.,100)\n",
    "acc = np.zeros(len(probability))\n",
    "for i,v in enumerate(probability):\n",
    "    #test data\n",
    "    test_mat,test_v = writing_data(100,n,v)\n",
    "    #evaluate accuracy\n",
    "    test_loss, test_acc = model.evaluate(test_mat, test_v)\n",
    "    acc[i] = test_acc"
   ]
  },
  {
   "cell_type": "markdown",
   "metadata": {},
   "source": [
    "# Building another model"
   ]
  },
  {
   "cell_type": "markdown",
   "metadata": {},
   "source": [
    "This time I will use Convolutional Neural Networks with 2 convolutional + pooling layers before entering the Neural Network structure that is the same as the previous one."
   ]
  },
  {
   "cell_type": "code",
   "execution_count": 62,
   "metadata": {},
   "outputs": [],
   "source": [
    "n = 15\n",
    "model = keras.Sequential([\n",
    "    keras.layers.Conv2D(64,kernel_size=3, activation=tf.nn.relu, input_shape=(n,n,1)),\n",
    "    keras.layers.MaxPooling2D(pool_size=(2, 2), strides=(2, 2)),\n",
    "    keras.layers.Conv2D(64, (5, 5), activation=tf.nn.relu),\n",
    "    keras.layers.MaxPooling2D(pool_size=(2, 2)),\n",
    "    keras.layers.Flatten(),\n",
    "    keras.layers.Dense(256, activation=tf.nn.relu),\n",
    "    keras.layers.Dense(2, activation=tf.nn.softmax)\n",
    "])\n",
    "model.compile(optimizer='adam', \n",
    "              loss='sparse_categorical_crossentropy',\n",
    "              metrics=['accuracy'])"
   ]
  },
  {
   "cell_type": "code",
   "execution_count": 56,
   "metadata": {},
   "outputs": [],
   "source": [
    "#traning data\n",
    "td,tr = writing_data(1000,n,0.5)\n",
    "td = td.reshape(-1,n,n,1) "
   ]
  },
  {
   "cell_type": "code",
   "execution_count": 63,
   "metadata": {
    "scrolled": true
   },
   "outputs": [
    {
     "name": "stdout",
     "output_type": "stream",
     "text": [
      "Epoch 1/12\n",
      "1000/1000 [==============================] - 1s 602us/sample - loss: 0.6962 - acc: 0.5080\n",
      "Epoch 2/12\n",
      "1000/1000 [==============================] - 0s 364us/sample - loss: 0.6848 - acc: 0.5460\n",
      "Epoch 3/12\n",
      "1000/1000 [==============================] - 0s 371us/sample - loss: 0.6631 - acc: 0.5890\n",
      "Epoch 4/12\n",
      "1000/1000 [==============================] - 0s 352us/sample - loss: 0.5976 - acc: 0.7070\n",
      "Epoch 5/12\n",
      "1000/1000 [==============================] - 0s 351us/sample - loss: 0.4935 - acc: 0.7600\n",
      "Epoch 6/12\n",
      "1000/1000 [==============================] - 0s 351us/sample - loss: 0.4518 - acc: 0.7890\n",
      "Epoch 7/12\n",
      "1000/1000 [==============================] - 0s 358us/sample - loss: 0.3957 - acc: 0.8390\n",
      "Epoch 8/12\n",
      "1000/1000 [==============================] - 0s 360us/sample - loss: 0.3258 - acc: 0.8820\n",
      "Epoch 9/12\n",
      "1000/1000 [==============================] - 0s 357us/sample - loss: 0.3081 - acc: 0.8770\n",
      "Epoch 10/12\n",
      "1000/1000 [==============================] - 0s 390us/sample - loss: 0.2493 - acc: 0.9100\n",
      "Epoch 11/12\n",
      "1000/1000 [==============================] - 0s 373us/sample - loss: 0.1691 - acc: 0.9530\n",
      "Epoch 12/12\n",
      "1000/1000 [==============================] - 0s 377us/sample - loss: 0.1160 - acc: 0.9760\n"
     ]
    },
    {
     "data": {
      "text/plain": [
       "<tensorflow.python.keras.callbacks.History at 0x7f39203c8350>"
      ]
     },
     "execution_count": 63,
     "metadata": {},
     "output_type": "execute_result"
    }
   ],
   "source": [
    "model.fit(td,tr, epochs = 12)"
   ]
  },
  {
   "cell_type": "markdown",
   "metadata": {},
   "source": [
    "# Plotting the probability versus the accuracy of the method"
   ]
  },
  {
   "cell_type": "markdown",
   "metadata": {},
   "source": [
    "We have a plot that shows that the accuracy decreases on the critical probability for the model.\n",
    "\n",
    "The way to acquire data for the plot is given in the line below the plot"
   ]
  },
  {
   "cell_type": "code",
   "execution_count": 67,
   "metadata": {},
   "outputs": [
    {
     "data": {
      "image/png": "[encoded data removed]",
      "text/plain": [
       "<Figure size 432x288 with 1 Axes>"
      ]
     },
     "metadata": {
      "needs_background": "light"
     },
     "output_type": "display_data"
    }
   ],
   "source": [
    "plt.plot(probability,acc, 'o')\n",
    "plt.show()"
   ]
  },
  {
   "cell_type": "markdown",
   "metadata": {},
   "source": [
    "Adjusting a Gaussian, the percolation probability is given by"
   ]
  },
  {
   "cell_type": "code",
   "execution_count": 90,
   "metadata": {},
   "outputs": [
    {
     "name": "stdout",
     "output_type": "stream",
     "text": [
      "Percolation probability:0.49347\n"
     ]
    }
   ],
   "source": [
    "print(\"Percolation probability:%.5f\" % popt[1])"
   ]
  },
  {
   "cell_type": "code",
   "execution_count": 66,
   "metadata": {
    "scrolled": true
   },
   "outputs": [
    {
     "name": "stdout",
     "output_type": "stream",
     "text": [
      "100/100 [==============================] - 0s 215us/sample - loss: 0.0530 - acc: 1.0000\n",
      "100/100 [==============================] - 0s 176us/sample - loss: 0.0497 - acc: 1.0000\n",
      "100/100 [==============================] - 0s 158us/sample - loss: 0.0464 - acc: 1.0000\n",
      "100/100 [==============================] - 0s 157us/sample - loss: 0.0463 - acc: 1.0000\n",
      "100/100 [==============================] - 0s 176us/sample - loss: 0.0450 - acc: 1.0000\n",
      "100/100 [==============================] - 0s 179us/sample - loss: 0.0409 - acc: 1.0000\n",
      "100/100 [==============================] - 0s 194us/sample - loss: 0.0407 - acc: 1.0000\n",
      "100/100 [==============================] - 0s 162us/sample - loss: 0.0381 - acc: 1.0000\n",
      "100/100 [==============================] - 0s 193us/sample - loss: 0.0367 - acc: 1.0000\n",
      "100/100 [==============================] - 0s 147us/sample - loss: 0.0354 - acc: 1.0000\n",
      "100/100 [==============================] - 0s 149us/sample - loss: 0.0341 - acc: 1.0000\n",
      "100/100 [==============================] - 0s 141us/sample - loss: 0.0327 - acc: 1.0000\n",
      "100/100 [==============================] - 0s 163us/sample - loss: 0.0335 - acc: 1.0000\n",
      "100/100 [==============================] - 0s 148us/sample - loss: 0.0313 - acc: 1.0000\n",
      "100/100 [==============================] - 0s 194us/sample - loss: 0.0317 - acc: 1.0000\n",
      "100/100 [==============================] - 0s 231us/sample - loss: 0.0311 - acc: 1.0000\n",
      "100/100 [==============================] - 0s 178us/sample - loss: 0.0283 - acc: 1.0000\n",
      "100/100 [==============================] - 0s 209us/sample - loss: 0.0278 - acc: 1.0000\n",
      "100/100 [==============================] - 0s 192us/sample - loss: 0.0275 - acc: 1.0000\n",
      "100/100 [==============================] - 0s 224us/sample - loss: 0.0270 - acc: 1.0000\n",
      "100/100 [==============================] - 0s 208us/sample - loss: 0.0256 - acc: 1.0000\n",
      "100/100 [==============================] - 0s 175us/sample - loss: 0.0229 - acc: 1.0000\n",
      "100/100 [==============================] - 0s 185us/sample - loss: 0.0239 - acc: 1.0000\n",
      "100/100 [==============================] - 0s 163us/sample - loss: 0.0229 - acc: 1.0000\n",
      "100/100 [==============================] - 0s 197us/sample - loss: 0.0219 - acc: 1.0000\n",
      "100/100 [==============================] - 0s 196us/sample - loss: 0.0221 - acc: 1.0000\n",
      "100/100 [==============================] - 0s 208us/sample - loss: 0.0212 - acc: 1.0000\n",
      "100/100 [==============================] - 0s 176us/sample - loss: 0.0214 - acc: 1.0000\n",
      "100/100 [==============================] - 0s 145us/sample - loss: 0.0193 - acc: 1.0000\n",
      "100/100 [==============================] - 0s 203us/sample - loss: 0.0194 - acc: 1.0000\n",
      "100/100 [==============================] - 0s 168us/sample - loss: 0.0196 - acc: 1.0000\n",
      "100/100 [==============================] - 0s 171us/sample - loss: 0.0182 - acc: 1.0000\n",
      "100/100 [==============================] - 0s 196us/sample - loss: 0.0198 - acc: 1.0000\n",
      "100/100 [==============================] - 0s 162us/sample - loss: 0.0182 - acc: 1.0000\n",
      "100/100 [==============================] - 0s 189us/sample - loss: 0.0167 - acc: 1.0000\n",
      "100/100 [==============================] - 0s 161us/sample - loss: 0.0173 - acc: 1.0000\n",
      "100/100 [==============================] - 0s 189us/sample - loss: 0.0163 - acc: 1.0000\n",
      "100/100 [==============================] - 0s 177us/sample - loss: 0.0165 - acc: 1.0000\n",
      "100/100 [==============================] - 0s 166us/sample - loss: 0.0162 - acc: 1.0000\n",
      "100/100 [==============================] - 0s 208us/sample - loss: 0.0157 - acc: 1.0000\n",
      "100/100 [==============================] - 0s 193us/sample - loss: 0.0144 - acc: 1.0000\n",
      "100/100 [==============================] - 0s 151us/sample - loss: 0.0144 - acc: 1.0000\n",
      "100/100 [==============================] - 0s 167us/sample - loss: 0.0137 - acc: 1.0000\n",
      "100/100 [==============================] - 0s 162us/sample - loss: 0.0142 - acc: 1.0000\n",
      "100/100 [==============================] - 0s 210us/sample - loss: 0.0139 - acc: 1.0000\n",
      "100/100 [==============================] - 0s 159us/sample - loss: 0.0133 - acc: 1.0000\n",
      "100/100 [==============================] - 0s 144us/sample - loss: 0.0128 - acc: 1.0000\n",
      "100/100 [==============================] - 0s 185us/sample - loss: 0.0126 - acc: 1.0000\n",
      "100/100 [==============================] - 0s 193us/sample - loss: 0.0125 - acc: 1.0000\n",
      "100/100 [==============================] - 0s 188us/sample - loss: 0.0126 - acc: 1.0000\n",
      "100/100 [==============================] - 0s 182us/sample - loss: 0.0119 - acc: 1.0000\n",
      "100/100 [==============================] - 0s 241us/sample - loss: 0.0120 - acc: 1.0000\n",
      "100/100 [==============================] - 0s 184us/sample - loss: 0.0120 - acc: 1.0000\n",
      "100/100 [==============================] - 0s 179us/sample - loss: 0.0112 - acc: 1.0000\n",
      "100/100 [==============================] - 0s 215us/sample - loss: 0.0112 - acc: 1.0000\n",
      "100/100 [==============================] - 0s 310us/sample - loss: 0.0108 - acc: 1.0000\n",
      "100/100 [==============================] - 0s 200us/sample - loss: 0.0099 - acc: 1.0000\n",
      "100/100 [==============================] - 0s 205us/sample - loss: 0.0102 - acc: 1.0000\n",
      "100/100 [==============================] - 0s 214us/sample - loss: 0.0098 - acc: 1.0000\n",
      "100/100 [==============================] - 0s 170us/sample - loss: 0.0102 - acc: 1.0000\n",
      "100/100 [==============================] - 0s 179us/sample - loss: 0.0098 - acc: 1.0000\n",
      "100/100 [==============================] - 0s 187us/sample - loss: 0.0099 - acc: 1.0000\n",
      "100/100 [==============================] - 0s 232us/sample - loss: 0.0093 - acc: 1.0000\n",
      "100/100 [==============================] - 0s 224us/sample - loss: 0.0091 - acc: 1.0000\n",
      "100/100 [==============================] - 0s 202us/sample - loss: 0.0086 - acc: 1.0000\n",
      "100/100 [==============================] - 0s 224us/sample - loss: 0.0088 - acc: 1.0000\n",
      "100/100 [==============================] - 0s 213us/sample - loss: 0.0090 - acc: 1.0000\n",
      "100/100 [==============================] - 0s 268us/sample - loss: 0.0092 - acc: 1.0000\n",
      "100/100 [==============================] - 0s 169us/sample - loss: 0.0085 - acc: 1.0000\n",
      "100/100 [==============================] - 0s 224us/sample - loss: 0.0081 - acc: 1.0000\n",
      "100/100 [==============================] - 0s 220us/sample - loss: 0.0085 - acc: 1.0000\n",
      "100/100 [==============================] - 0s 201us/sample - loss: 0.0080 - acc: 1.0000\n",
      "100/100 [==============================] - 0s 227us/sample - loss: 0.0078 - acc: 1.0000\n",
      "100/100 [==============================] - 0s 229us/sample - loss: 0.0077 - acc: 1.0000\n",
      "100/100 [==============================] - 0s 209us/sample - loss: 0.0078 - acc: 1.0000\n",
      "100/100 [==============================] - 0s 226us/sample - loss: 0.0075 - acc: 1.0000\n",
      "100/100 [==============================] - 0s 221us/sample - loss: 0.0075 - acc: 1.0000\n",
      "100/100 [==============================] - 0s 188us/sample - loss: 0.0074 - acc: 1.0000\n",
      "100/100 [==============================] - 0s 183us/sample - loss: 0.0073 - acc: 1.0000\n",
      "100/100 [==============================] - 0s 201us/sample - loss: 0.0071 - acc: 1.0000\n",
      "100/100 [==============================] - 0s 189us/sample - loss: 0.0067 - acc: 1.0000\n",
      "100/100 [==============================] - 0s 182us/sample - loss: 0.0068 - acc: 1.0000\n",
      "100/100 [==============================] - 0s 218us/sample - loss: 0.0066 - acc: 1.0000\n",
      "100/100 [==============================] - 0s 298us/sample - loss: 0.0064 - acc: 1.0000\n",
      "100/100 [==============================] - 0s 218us/sample - loss: 0.0064 - acc: 1.0000\n",
      "100/100 [==============================] - 0s 212us/sample - loss: 0.0066 - acc: 1.0000\n",
      "100/100 [==============================] - 0s 198us/sample - loss: 0.0067 - acc: 1.0000\n",
      "100/100 [==============================] - 0s 207us/sample - loss: 0.0064 - acc: 1.0000\n",
      "100/100 [==============================] - 0s 239us/sample - loss: 0.0060 - acc: 1.0000\n",
      "100/100 [==============================] - 0s 180us/sample - loss: 0.0061 - acc: 1.0000\n",
      "100/100 [==============================] - 0s 227us/sample - loss: 0.0060 - acc: 1.0000\n",
      "100/100 [==============================] - 0s 227us/sample - loss: 0.0063 - acc: 1.0000\n",
      "100/100 [==============================] - 0s 252us/sample - loss: 0.0062 - acc: 1.0000\n"
     ]
    },
    {
     "name": "stdout",
     "output_type": "stream",
     "text": [
      "100/100 [==============================] - 0s 262us/sample - loss: 0.0059 - acc: 1.0000\n",
      "100/100 [==============================] - 0s 161us/sample - loss: 0.0061 - acc: 1.0000\n",
      "100/100 [==============================] - 0s 169us/sample - loss: 0.0061 - acc: 1.0000\n",
      "100/100 [==============================] - 0s 161us/sample - loss: 0.0060 - acc: 1.0000\n",
      "100/100 [==============================] - 0s 198us/sample - loss: 0.0055 - acc: 1.0000\n",
      "100/100 [==============================] - 0s 185us/sample - loss: 0.0056 - acc: 1.0000\n",
      "100/100 [==============================] - 0s 183us/sample - loss: 0.0056 - acc: 1.0000\n",
      "100/100 [==============================] - 0s 157us/sample - loss: 0.0058 - acc: 1.0000\n",
      "100/100 [==============================] - 0s 179us/sample - loss: 0.0062 - acc: 1.0000\n",
      "100/100 [==============================] - 0s 171us/sample - loss: 0.0051 - acc: 1.0000\n",
      "100/100 [==============================] - 0s 195us/sample - loss: 0.0055 - acc: 1.0000\n",
      "100/100 [==============================] - 0s 158us/sample - loss: 0.0054 - acc: 1.0000\n",
      "100/100 [==============================] - 0s 179us/sample - loss: 0.0055 - acc: 1.0000\n",
      "100/100 [==============================] - 0s 179us/sample - loss: 0.0057 - acc: 1.0000\n",
      "100/100 [==============================] - 0s 152us/sample - loss: 0.0050 - acc: 1.0000\n",
      "100/100 [==============================] - 0s 147us/sample - loss: 0.0051 - acc: 1.0000\n",
      "100/100 [==============================] - 0s 152us/sample - loss: 0.0050 - acc: 1.0000\n",
      "100/100 [==============================] - 0s 155us/sample - loss: 0.0538 - acc: 0.9900\n",
      "100/100 [==============================] - 0s 170us/sample - loss: 0.0047 - acc: 1.0000\n",
      "100/100 [==============================] - 0s 151us/sample - loss: 0.0048 - acc: 1.0000\n",
      "100/100 [==============================] - 0s 173us/sample - loss: 0.0540 - acc: 0.9900\n",
      "100/100 [==============================] - 0s 145us/sample - loss: 0.0051 - acc: 1.0000\n",
      "100/100 [==============================] - 0s 189us/sample - loss: 0.0050 - acc: 1.0000\n",
      "100/100 [==============================] - 0s 156us/sample - loss: 0.0049 - acc: 1.0000\n",
      "100/100 [==============================] - 0s 199us/sample - loss: 0.0049 - acc: 1.0000\n",
      "100/100 [==============================] - 0s 180us/sample - loss: 0.0054 - acc: 1.0000\n",
      "100/100 [==============================] - 0s 156us/sample - loss: 0.0043 - acc: 1.0000\n",
      "100/100 [==============================] - 0s 183us/sample - loss: 0.0046 - acc: 1.0000\n",
      "100/100 [==============================] - 0s 185us/sample - loss: 0.0050 - acc: 1.0000\n",
      "100/100 [==============================] - 0s 148us/sample - loss: 0.0054 - acc: 1.0000\n",
      "100/100 [==============================] - 0s 172us/sample - loss: 0.0053 - acc: 1.0000\n",
      "100/100 [==============================] - 0s 172us/sample - loss: 0.0049 - acc: 1.0000\n",
      "100/100 [==============================] - 0s 204us/sample - loss: 0.0057 - acc: 1.0000\n",
      "100/100 [==============================] - 0s 227us/sample - loss: 0.0048 - acc: 1.0000\n",
      "100/100 [==============================] - 0s 188us/sample - loss: 0.0057 - acc: 1.0000\n",
      "100/100 [==============================] - 0s 193us/sample - loss: 0.0070 - acc: 1.0000\n",
      "100/100 [==============================] - 0s 207us/sample - loss: 0.0066 - acc: 1.0000\n",
      "100/100 [==============================] - 0s 162us/sample - loss: 0.0054 - acc: 1.0000\n",
      "100/100 [==============================] - 0s 181us/sample - loss: 0.0054 - acc: 1.0000\n",
      "100/100 [==============================] - 0s 162us/sample - loss: 0.0049 - acc: 1.0000\n",
      "100/100 [==============================] - 0s 186us/sample - loss: 0.0066 - acc: 1.0000\n",
      "100/100 [==============================] - 0s 166us/sample - loss: 0.1055 - acc: 0.9800\n",
      "100/100 [==============================] - 0s 203us/sample - loss: 0.0058 - acc: 1.0000\n",
      "100/100 [==============================] - 0s 284us/sample - loss: 0.0080 - acc: 1.0000\n",
      "100/100 [==============================] - 0s 209us/sample - loss: 0.0651 - acc: 0.9900\n",
      "100/100 [==============================] - 0s 252us/sample - loss: 0.0607 - acc: 0.9900\n",
      "100/100 [==============================] - 0s 221us/sample - loss: 0.0408 - acc: 0.9900\n",
      "100/100 [==============================] - 0s 159us/sample - loss: 0.0588 - acc: 0.9900\n",
      "100/100 [==============================] - 0s 155us/sample - loss: 0.0672 - acc: 0.9900\n",
      "100/100 [==============================] - 0s 165us/sample - loss: 0.0661 - acc: 0.9900\n",
      "100/100 [==============================] - 0s 181us/sample - loss: 0.0496 - acc: 0.9900\n",
      "100/100 [==============================] - 0s 196us/sample - loss: 0.0118 - acc: 1.0000\n",
      "100/100 [==============================] - 0s 187us/sample - loss: 0.1013 - acc: 0.9800\n",
      "100/100 [==============================] - 0s 187us/sample - loss: 0.1294 - acc: 0.9700\n",
      "100/100 [==============================] - 0s 227us/sample - loss: 0.0581 - acc: 0.9900\n",
      "100/100 [==============================] - 0s 161us/sample - loss: 0.0622 - acc: 0.9900\n",
      "100/100 [==============================] - 0s 148us/sample - loss: 0.0667 - acc: 0.9800\n",
      "100/100 [==============================] - 0s 160us/sample - loss: 0.0103 - acc: 1.0000\n",
      "100/100 [==============================] - 0s 170us/sample - loss: 0.0393 - acc: 0.9900\n",
      "100/100 [==============================] - 0s 159us/sample - loss: 0.0586 - acc: 0.9900\n",
      "100/100 [==============================] - 0s 173us/sample - loss: 0.1160 - acc: 0.9600\n",
      "100/100 [==============================] - 0s 203us/sample - loss: 0.1123 - acc: 0.9700\n",
      "100/100 [==============================] - 0s 142us/sample - loss: 0.1093 - acc: 0.9700\n",
      "100/100 [==============================] - 0s 152us/sample - loss: 0.1056 - acc: 0.9700\n",
      "100/100 [==============================] - 0s 179us/sample - loss: 0.0858 - acc: 0.9700\n",
      "100/100 [==============================] - 0s 191us/sample - loss: 0.1930 - acc: 0.9500\n",
      "100/100 [==============================] - 0s 137us/sample - loss: 0.0651 - acc: 0.9900\n",
      "100/100 [==============================] - 0s 152us/sample - loss: 0.0995 - acc: 0.9800\n",
      "100/100 [==============================] - 0s 155us/sample - loss: 0.0722 - acc: 0.9800\n",
      "100/100 [==============================] - 0s 191us/sample - loss: 0.1053 - acc: 0.9700\n",
      "100/100 [==============================] - 0s 173us/sample - loss: 0.2590 - acc: 0.9500\n",
      "100/100 [==============================] - 0s 155us/sample - loss: 0.1254 - acc: 0.9700\n",
      "100/100 [==============================] - 0s 173us/sample - loss: 0.1452 - acc: 0.9700\n",
      "100/100 [==============================] - 0s 182us/sample - loss: 0.2540 - acc: 0.9300\n",
      "100/100 [==============================] - 0s 179us/sample - loss: 0.1291 - acc: 0.9700\n",
      "100/100 [==============================] - 0s 167us/sample - loss: 0.3132 - acc: 0.9100\n",
      "100/100 [==============================] - 0s 152us/sample - loss: 0.1804 - acc: 0.9500\n",
      "100/100 [==============================] - 0s 160us/sample - loss: 0.1552 - acc: 0.9700\n",
      "100/100 [==============================] - 0s 169us/sample - loss: 0.1568 - acc: 0.9600\n",
      "100/100 [==============================] - 0s 144us/sample - loss: 0.1499 - acc: 0.9600\n",
      "100/100 [==============================] - 0s 172us/sample - loss: 0.1375 - acc: 0.9700\n",
      "100/100 [==============================] - 0s 173us/sample - loss: 0.2387 - acc: 0.9400\n",
      "100/100 [==============================] - 0s 202us/sample - loss: 0.0515 - acc: 0.9800\n",
      "100/100 [==============================] - 0s 168us/sample - loss: 0.2006 - acc: 0.9500\n",
      "100/100 [==============================] - 0s 189us/sample - loss: 0.3444 - acc: 0.9200\n",
      "100/100 [==============================] - 0s 170us/sample - loss: 0.1943 - acc: 0.9500\n",
      "100/100 [==============================] - 0s 150us/sample - loss: 0.2096 - acc: 0.9400\n",
      "100/100 [==============================] - 0s 160us/sample - loss: 0.1740 - acc: 0.9600\n",
      "100/100 [==============================] - 0s 165us/sample - loss: 0.1935 - acc: 0.9700\n",
      "100/100 [==============================] - 0s 137us/sample - loss: 0.0977 - acc: 0.9600\n",
      "100/100 [==============================] - 0s 160us/sample - loss: 0.2688 - acc: 0.9100\n",
      "100/100 [==============================] - 0s 171us/sample - loss: 0.1663 - acc: 0.9600\n",
      "100/100 [==============================] - 0s 171us/sample - loss: 0.1371 - acc: 0.9500\n"
     ]
    },
    {
     "name": "stdout",
     "output_type": "stream",
     "text": [
      "100/100 [==============================] - 0s 184us/sample - loss: 0.3446 - acc: 0.9100\n",
      "100/100 [==============================] - 0s 220us/sample - loss: 0.4791 - acc: 0.8500\n",
      "100/100 [==============================] - 0s 205us/sample - loss: 0.2031 - acc: 0.9400\n",
      "100/100 [==============================] - 0s 268us/sample - loss: 0.2622 - acc: 0.9200\n",
      "100/100 [==============================] - 0s 216us/sample - loss: 0.2245 - acc: 0.9500\n",
      "100/100 [==============================] - 0s 177us/sample - loss: 0.3151 - acc: 0.8900\n",
      "100/100 [==============================] - 0s 179us/sample - loss: 0.2324 - acc: 0.9000\n",
      "100/100 [==============================] - 0s 177us/sample - loss: 0.3597 - acc: 0.8700\n",
      "100/100 [==============================] - 0s 214us/sample - loss: 0.3843 - acc: 0.8500\n",
      "100/100 [==============================] - 0s 186us/sample - loss: 0.4092 - acc: 0.8600\n",
      "100/100 [==============================] - 0s 157us/sample - loss: 0.2647 - acc: 0.9000\n",
      "100/100 [==============================] - 0s 160us/sample - loss: 0.3246 - acc: 0.9100\n",
      "100/100 [==============================] - 0s 158us/sample - loss: 0.2946 - acc: 0.8900\n",
      "100/100 [==============================] - 0s 165us/sample - loss: 0.2810 - acc: 0.9300\n",
      "100/100 [==============================] - 0s 199us/sample - loss: 0.3430 - acc: 0.8700\n",
      "100/100 [==============================] - 0s 141us/sample - loss: 0.4858 - acc: 0.8200\n",
      "100/100 [==============================] - 0s 171us/sample - loss: 0.3972 - acc: 0.8300\n",
      "100/100 [==============================] - 0s 160us/sample - loss: 0.4230 - acc: 0.8300\n",
      "100/100 [==============================] - 0s 154us/sample - loss: 0.4369 - acc: 0.8700\n",
      "100/100 [==============================] - 0s 184us/sample - loss: 0.4493 - acc: 0.8100\n",
      "100/100 [==============================] - 0s 144us/sample - loss: 0.2761 - acc: 0.8600\n",
      "100/100 [==============================] - 0s 164us/sample - loss: 0.4566 - acc: 0.8300\n",
      "100/100 [==============================] - 0s 178us/sample - loss: 0.6586 - acc: 0.7400\n",
      "100/100 [==============================] - 0s 216us/sample - loss: 0.4801 - acc: 0.8100\n",
      "100/100 [==============================] - 0s 162us/sample - loss: 0.3450 - acc: 0.8600\n",
      "100/100 [==============================] - 0s 163us/sample - loss: 0.5260 - acc: 0.7900\n",
      "100/100 [==============================] - 0s 181us/sample - loss: 0.5498 - acc: 0.7700\n",
      "100/100 [==============================] - 0s 150us/sample - loss: 0.6661 - acc: 0.7800\n",
      "100/100 [==============================] - 0s 176us/sample - loss: 0.5710 - acc: 0.7700\n",
      "100/100 [==============================] - 0s 154us/sample - loss: 0.3573 - acc: 0.8500\n",
      "100/100 [==============================] - 0s 155us/sample - loss: 0.6114 - acc: 0.7500\n",
      "100/100 [==============================] - 0s 171us/sample - loss: 0.5179 - acc: 0.7600\n",
      "100/100 [==============================] - 0s 186us/sample - loss: 0.6436 - acc: 0.7600\n",
      "100/100 [==============================] - 0s 154us/sample - loss: 0.6739 - acc: 0.7300\n",
      "100/100 [==============================] - 0s 165us/sample - loss: 0.5165 - acc: 0.8000\n",
      "100/100 [==============================] - 0s 196us/sample - loss: 0.6794 - acc: 0.7200\n",
      "100/100 [==============================] - 0s 170us/sample - loss: 0.6270 - acc: 0.7400\n",
      "100/100 [==============================] - 0s 155us/sample - loss: 0.5152 - acc: 0.8100\n",
      "100/100 [==============================] - 0s 181us/sample - loss: 0.7174 - acc: 0.7400\n",
      "100/100 [==============================] - 0s 179us/sample - loss: 0.6699 - acc: 0.6800\n",
      "100/100 [==============================] - 0s 166us/sample - loss: 0.6376 - acc: 0.7000\n",
      "100/100 [==============================] - 0s 167us/sample - loss: 0.6093 - acc: 0.7700\n",
      "100/100 [==============================] - 0s 156us/sample - loss: 0.6026 - acc: 0.7400\n",
      "100/100 [==============================] - 0s 162us/sample - loss: 0.6708 - acc: 0.7000\n",
      "100/100 [==============================] - 0s 161us/sample - loss: 0.7900 - acc: 0.6700\n",
      "100/100 [==============================] - 0s 158us/sample - loss: 0.6235 - acc: 0.7600\n",
      "100/100 [==============================] - 0s 171us/sample - loss: 0.6148 - acc: 0.7700\n",
      "100/100 [==============================] - 0s 168us/sample - loss: 0.6823 - acc: 0.7300\n",
      "100/100 [==============================] - 0s 159us/sample - loss: 0.6942 - acc: 0.7000\n",
      "100/100 [==============================] - 0s 152us/sample - loss: 0.5141 - acc: 0.7800\n",
      "100/100 [==============================] - 0s 181us/sample - loss: 0.6530 - acc: 0.6900\n",
      "100/100 [==============================] - 0s 159us/sample - loss: 0.7066 - acc: 0.6800\n",
      "100/100 [==============================] - 0s 181us/sample - loss: 0.7554 - acc: 0.7800\n",
      "100/100 [==============================] - 0s 162us/sample - loss: 0.7961 - acc: 0.6100\n",
      "100/100 [==============================] - 0s 151us/sample - loss: 0.5560 - acc: 0.7800\n",
      "100/100 [==============================] - 0s 172us/sample - loss: 0.5510 - acc: 0.7400\n",
      "100/100 [==============================] - 0s 178us/sample - loss: 0.7965 - acc: 0.6300\n",
      "100/100 [==============================] - 0s 173us/sample - loss: 0.6543 - acc: 0.6900\n",
      "100/100 [==============================] - 0s 151us/sample - loss: 0.9177 - acc: 0.6700\n",
      "100/100 [==============================] - 0s 156us/sample - loss: 0.8034 - acc: 0.6900\n",
      "100/100 [==============================] - 0s 167us/sample - loss: 0.8129 - acc: 0.6800\n",
      "100/100 [==============================] - 0s 157us/sample - loss: 0.7202 - acc: 0.7100\n",
      "100/100 [==============================] - 0s 194us/sample - loss: 0.6816 - acc: 0.7400\n",
      "100/100 [==============================] - 0s 181us/sample - loss: 0.6399 - acc: 0.7600\n",
      "100/100 [==============================] - 0s 190us/sample - loss: 0.5853 - acc: 0.7500\n",
      "100/100 [==============================] - 0s 156us/sample - loss: 0.8691 - acc: 0.6600\n",
      "100/100 [==============================] - 0s 163us/sample - loss: 0.4609 - acc: 0.7800\n",
      "100/100 [==============================] - 0s 166us/sample - loss: 0.7344 - acc: 0.6600\n",
      "100/100 [==============================] - 0s 208us/sample - loss: 0.7309 - acc: 0.6700\n",
      "100/100 [==============================] - 0s 224us/sample - loss: 0.6412 - acc: 0.7300\n",
      "100/100 [==============================] - 0s 163us/sample - loss: 0.7333 - acc: 0.6700\n",
      "100/100 [==============================] - 0s 159us/sample - loss: 0.5830 - acc: 0.7100\n",
      "100/100 [==============================] - 0s 172us/sample - loss: 0.6887 - acc: 0.7300\n",
      "100/100 [==============================] - 0s 176us/sample - loss: 0.5458 - acc: 0.7500\n",
      "100/100 [==============================] - 0s 162us/sample - loss: 0.6855 - acc: 0.7300\n",
      "100/100 [==============================] - 0s 157us/sample - loss: 0.7297 - acc: 0.6600\n",
      "100/100 [==============================] - 0s 179us/sample - loss: 0.7407 - acc: 0.7400\n",
      "100/100 [==============================] - 0s 165us/sample - loss: 0.8075 - acc: 0.6600\n",
      "100/100 [==============================] - 0s 183us/sample - loss: 0.5728 - acc: 0.8000\n",
      "100/100 [==============================] - 0s 191us/sample - loss: 0.5470 - acc: 0.7500\n",
      "100/100 [==============================] - 0s 166us/sample - loss: 0.5074 - acc: 0.7700\n",
      "100/100 [==============================] - 0s 195us/sample - loss: 0.5694 - acc: 0.7500\n",
      "100/100 [==============================] - 0s 174us/sample - loss: 0.6701 - acc: 0.6700\n",
      "100/100 [==============================] - 0s 196us/sample - loss: 0.5229 - acc: 0.8100\n",
      "100/100 [==============================] - 0s 155us/sample - loss: 0.5411 - acc: 0.7400\n",
      "100/100 [==============================] - 0s 178us/sample - loss: 0.6519 - acc: 0.7700\n",
      "100/100 [==============================] - 0s 169us/sample - loss: 0.4932 - acc: 0.7700\n",
      "100/100 [==============================] - 0s 169us/sample - loss: 0.5377 - acc: 0.7400\n",
      "100/100 [==============================] - 0s 177us/sample - loss: 0.5460 - acc: 0.7600\n",
      "100/100 [==============================] - 0s 207us/sample - loss: 0.6637 - acc: 0.7800\n",
      "100/100 [==============================] - 0s 153us/sample - loss: 0.3879 - acc: 0.8100\n",
      "100/100 [==============================] - 0s 170us/sample - loss: 0.6024 - acc: 0.7700\n",
      "100/100 [==============================] - 0s 190us/sample - loss: 0.5996 - acc: 0.7600\n"
     ]
    },
    {
     "name": "stdout",
     "output_type": "stream",
     "text": [
      "100/100 [==============================] - 0s 176us/sample - loss: 0.4108 - acc: 0.8400\n",
      "100/100 [==============================] - 0s 178us/sample - loss: 0.4329 - acc: 0.8300\n",
      "100/100 [==============================] - 0s 186us/sample - loss: 0.2864 - acc: 0.8300\n",
      "100/100 [==============================] - 0s 190us/sample - loss: 0.4439 - acc: 0.8300\n",
      "100/100 [==============================] - 0s 172us/sample - loss: 0.5686 - acc: 0.8000\n",
      "100/100 [==============================] - 0s 171us/sample - loss: 0.4315 - acc: 0.8100\n",
      "100/100 [==============================] - 0s 246us/sample - loss: 0.5487 - acc: 0.8200\n",
      "100/100 [==============================] - 0s 162us/sample - loss: 0.3927 - acc: 0.8500\n",
      "100/100 [==============================] - 0s 148us/sample - loss: 0.5029 - acc: 0.8100\n",
      "100/100 [==============================] - 0s 168us/sample - loss: 0.2233 - acc: 0.9200\n",
      "100/100 [==============================] - 0s 178us/sample - loss: 0.4245 - acc: 0.8400\n",
      "100/100 [==============================] - 0s 186us/sample - loss: 0.4380 - acc: 0.8500\n",
      "100/100 [==============================] - 0s 162us/sample - loss: 0.6547 - acc: 0.8100\n",
      "100/100 [==============================] - 0s 159us/sample - loss: 0.3472 - acc: 0.8800\n",
      "100/100 [==============================] - 0s 231us/sample - loss: 0.3391 - acc: 0.8600\n",
      "100/100 [==============================] - 0s 170us/sample - loss: 0.5622 - acc: 0.8100\n",
      "100/100 [==============================] - 0s 184us/sample - loss: 0.3049 - acc: 0.8700\n",
      "100/100 [==============================] - 0s 160us/sample - loss: 0.4937 - acc: 0.8500\n",
      "100/100 [==============================] - 0s 156us/sample - loss: 0.3473 - acc: 0.8700\n",
      "100/100 [==============================] - 0s 175us/sample - loss: 0.2218 - acc: 0.9000\n",
      "100/100 [==============================] - 0s 163us/sample - loss: 0.4983 - acc: 0.8600\n",
      "100/100 [==============================] - 0s 168us/sample - loss: 0.3806 - acc: 0.8900\n",
      "100/100 [==============================] - 0s 183us/sample - loss: 0.1898 - acc: 0.9300\n",
      "100/100 [==============================] - 0s 167us/sample - loss: 0.3831 - acc: 0.8900\n",
      "100/100 [==============================] - 0s 196us/sample - loss: 0.3510 - acc: 0.8900\n",
      "100/100 [==============================] - 0s 180us/sample - loss: 0.2432 - acc: 0.9400\n",
      "100/100 [==============================] - 0s 175us/sample - loss: 0.2445 - acc: 0.9300\n",
      "100/100 [==============================] - 0s 157us/sample - loss: 0.3038 - acc: 0.9100\n",
      "100/100 [==============================] - 0s 168us/sample - loss: 0.5272 - acc: 0.8700\n",
      "100/100 [==============================] - 0s 173us/sample - loss: 0.3442 - acc: 0.9000\n",
      "100/100 [==============================] - 0s 171us/sample - loss: 0.2587 - acc: 0.9400\n",
      "100/100 [==============================] - 0s 167us/sample - loss: 0.3573 - acc: 0.9200\n",
      "100/100 [==============================] - 0s 178us/sample - loss: 0.1756 - acc: 0.9300\n",
      "100/100 [==============================] - 0s 167us/sample - loss: 0.2302 - acc: 0.9400\n",
      "100/100 [==============================] - 0s 161us/sample - loss: 0.2862 - acc: 0.9000\n",
      "100/100 [==============================] - 0s 159us/sample - loss: 0.1592 - acc: 0.9500\n",
      "100/100 [==============================] - 0s 153us/sample - loss: 0.3175 - acc: 0.9200\n",
      "100/100 [==============================] - 0s 161us/sample - loss: 0.1937 - acc: 0.9600\n",
      "100/100 [==============================] - 0s 176us/sample - loss: 0.0643 - acc: 0.9800\n",
      "100/100 [==============================] - 0s 169us/sample - loss: 0.2128 - acc: 0.9600\n",
      "100/100 [==============================] - 0s 183us/sample - loss: 0.1921 - acc: 0.9300\n",
      "100/100 [==============================] - 0s 155us/sample - loss: 0.0539 - acc: 0.9800\n",
      "100/100 [==============================] - 0s 165us/sample - loss: 0.2695 - acc: 0.9400\n",
      "100/100 [==============================] - 0s 165us/sample - loss: 0.4821 - acc: 0.8800\n",
      "100/100 [==============================] - 0s 166us/sample - loss: 0.2830 - acc: 0.9200\n",
      "100/100 [==============================] - 0s 175us/sample - loss: 0.2582 - acc: 0.9500\n",
      "100/100 [==============================] - 0s 183us/sample - loss: 0.1700 - acc: 0.9700\n",
      "100/100 [==============================] - 0s 160us/sample - loss: 0.0722 - acc: 0.9800\n",
      "100/100 [==============================] - 0s 174us/sample - loss: 0.1782 - acc: 0.9600\n",
      "100/100 [==============================] - 0s 176us/sample - loss: 0.0256 - acc: 0.9900\n",
      "100/100 [==============================] - 0s 147us/sample - loss: 0.1322 - acc: 0.9600\n",
      "100/100 [==============================] - 0s 151us/sample - loss: 0.1394 - acc: 0.9500\n",
      "100/100 [==============================] - 0s 162us/sample - loss: 0.1454 - acc: 0.9700\n",
      "100/100 [==============================] - 0s 179us/sample - loss: 0.3329 - acc: 0.9500\n",
      "100/100 [==============================] - 0s 156us/sample - loss: 0.2125 - acc: 0.9700\n",
      "100/100 [==============================] - 0s 157us/sample - loss: 0.1359 - acc: 0.9700\n",
      "100/100 [==============================] - 0s 156us/sample - loss: 0.1032 - acc: 0.9800\n",
      "100/100 [==============================] - 0s 166us/sample - loss: 0.0713 - acc: 0.9800\n",
      "100/100 [==============================] - 0s 155us/sample - loss: 0.1563 - acc: 0.9700\n",
      "100/100 [==============================] - 0s 158us/sample - loss: 0.0879 - acc: 0.9900\n",
      "100/100 [==============================] - 0s 159us/sample - loss: 0.1902 - acc: 0.9700\n",
      "100/100 [==============================] - 0s 171us/sample - loss: 0.0012 - acc: 1.0000\n",
      "100/100 [==============================] - 0s 156us/sample - loss: 0.1556 - acc: 0.9700\n",
      "100/100 [==============================] - 0s 170us/sample - loss: 0.1055 - acc: 0.9700\n",
      "100/100 [==============================] - 0s 165us/sample - loss: 0.1423 - acc: 0.9800\n",
      "100/100 [==============================] - 0s 205us/sample - loss: 0.1174 - acc: 0.9800\n",
      "100/100 [==============================] - 0s 228us/sample - loss: 0.0568 - acc: 0.9900\n",
      "100/100 [==============================] - 0s 170us/sample - loss: 0.0858 - acc: 0.9800\n",
      "100/100 [==============================] - 0s 162us/sample - loss: 0.0923 - acc: 0.9900\n",
      "100/100 [==============================] - 0s 190us/sample - loss: 0.2021 - acc: 0.9700\n",
      "100/100 [==============================] - 0s 166us/sample - loss: 0.0663 - acc: 0.9900\n",
      "100/100 [==============================] - 0s 161us/sample - loss: 0.0560 - acc: 0.9800\n",
      "100/100 [==============================] - 0s 161us/sample - loss: 0.0475 - acc: 0.9900\n",
      "100/100 [==============================] - 0s 167us/sample - loss: 0.1287 - acc: 0.9800\n",
      "100/100 [==============================] - 0s 184us/sample - loss: 0.0598 - acc: 0.9900\n",
      "100/100 [==============================] - 0s 163us/sample - loss: 3.9802e-04 - acc: 1.0000\n",
      "100/100 [==============================] - 0s 179us/sample - loss: 0.0530 - acc: 0.9900\n",
      "100/100 [==============================] - 0s 157us/sample - loss: 0.1001 - acc: 0.9900\n",
      "100/100 [==============================] - 0s 163us/sample - loss: 0.0717 - acc: 0.9900\n",
      "100/100 [==============================] - 0s 173us/sample - loss: 2.1211e-04 - acc: 1.0000\n",
      "100/100 [==============================] - 0s 162us/sample - loss: 0.0706 - acc: 0.9900\n",
      "100/100 [==============================] - 0s 193us/sample - loss: 0.1289 - acc: 0.9800\n",
      "100/100 [==============================] - 0s 167us/sample - loss: 3.7601e-04 - acc: 1.0000\n",
      "100/100 [==============================] - 0s 153us/sample - loss: 2.6620e-04 - acc: 1.0000\n",
      "100/100 [==============================] - 0s 156us/sample - loss: 0.0469 - acc: 0.9900\n",
      "100/100 [==============================] - 0s 178us/sample - loss: 6.9924e-05 - acc: 1.0000\n",
      "100/100 [==============================] - 0s 156us/sample - loss: 2.8558e-04 - acc: 1.0000\n",
      "100/100 [==============================] - 0s 171us/sample - loss: 0.1714 - acc: 0.9800\n",
      "100/100 [==============================] - 0s 173us/sample - loss: 0.0830 - acc: 0.9900\n",
      "100/100 [==============================] - 0s 165us/sample - loss: 0.0862 - acc: 0.9900\n",
      "100/100 [==============================] - 0s 158us/sample - loss: 0.1626 - acc: 0.9800\n",
      "100/100 [==============================] - 0s 173us/sample - loss: 6.3460e-05 - acc: 1.0000\n"
     ]
    },
    {
     "name": "stdout",
     "output_type": "stream",
     "text": [
      "100/100 [==============================] - 0s 188us/sample - loss: 0.1329 - acc: 0.9800\n",
      "100/100 [==============================] - 0s 159us/sample - loss: 0.1435 - acc: 0.9800\n",
      "100/100 [==============================] - 0s 166us/sample - loss: 0.0858 - acc: 0.9900\n",
      "100/100 [==============================] - 0s 153us/sample - loss: 1.7379e-04 - acc: 1.0000\n",
      "100/100 [==============================] - 0s 202us/sample - loss: 6.3710e-05 - acc: 1.0000\n",
      "100/100 [==============================] - 0s 169us/sample - loss: 0.0133 - acc: 0.9900\n",
      "100/100 [==============================] - 0s 173us/sample - loss: 0.2886 - acc: 0.9700\n",
      "100/100 [==============================] - 0s 159us/sample - loss: 6.6340e-04 - acc: 1.0000\n",
      "100/100 [==============================] - 0s 162us/sample - loss: 4.7998e-05 - acc: 1.0000\n",
      "100/100 [==============================] - 0s 176us/sample - loss: 2.7456e-05 - acc: 1.0000\n",
      "100/100 [==============================] - 0s 173us/sample - loss: 7.5416e-05 - acc: 1.0000\n",
      "100/100 [==============================] - 0s 168us/sample - loss: 0.0727 - acc: 0.9900\n",
      "100/100 [==============================] - 0s 158us/sample - loss: 0.0802 - acc: 0.9900\n",
      "100/100 [==============================] - 0s 213us/sample - loss: 1.8973e-05 - acc: 1.0000\n",
      "100/100 [==============================] - 0s 189us/sample - loss: 0.1092 - acc: 0.9900\n",
      "100/100 [==============================] - 0s 188us/sample - loss: 0.1184 - acc: 0.9900\n",
      "100/100 [==============================] - 0s 186us/sample - loss: 2.4303e-05 - acc: 1.0000\n",
      "100/100 [==============================] - 0s 167us/sample - loss: 0.0920 - acc: 0.9900\n",
      "100/100 [==============================] - 0s 161us/sample - loss: 3.5840e-05 - acc: 1.0000\n",
      "100/100 [==============================] - 0s 164us/sample - loss: 1.3791e-05 - acc: 1.0000\n",
      "100/100 [==============================] - 0s 148us/sample - loss: 5.1816e-05 - acc: 1.0000\n",
      "100/100 [==============================] - 0s 171us/sample - loss: 1.3829e-05 - acc: 1.0000\n",
      "100/100 [==============================] - 0s 177us/sample - loss: 2.1026e-05 - acc: 1.0000\n",
      "100/100 [==============================] - 0s 183us/sample - loss: 1.2943e-05 - acc: 1.0000\n",
      "100/100 [==============================] - 0s 174us/sample - loss: 1.3408e-05 - acc: 1.0000\n",
      "100/100 [==============================] - 0s 163us/sample - loss: 1.1216e-05 - acc: 1.0000\n",
      "100/100 [==============================] - 0s 182us/sample - loss: 1.3084e-05 - acc: 1.0000\n",
      "100/100 [==============================] - 0s 165us/sample - loss: 1.4842e-05 - acc: 1.0000\n",
      "100/100 [==============================] - 0s 154us/sample - loss: 1.1562e-05 - acc: 1.0000\n",
      "100/100 [==============================] - 0s 174us/sample - loss: 1.5100e-05 - acc: 1.0000\n",
      "100/100 [==============================] - 0s 200us/sample - loss: 1.0349e-05 - acc: 1.0000\n",
      "100/100 [==============================] - 0s 158us/sample - loss: 8.1681e-06 - acc: 1.0000\n",
      "100/100 [==============================] - 0s 199us/sample - loss: 5.6600e-06 - acc: 1.0000\n",
      "100/100 [==============================] - 0s 179us/sample - loss: 0.0492 - acc: 0.9900\n",
      "100/100 [==============================] - 0s 166us/sample - loss: 7.5148e-06 - acc: 1.0000\n",
      "100/100 [==============================] - 0s 150us/sample - loss: 0.1057 - acc: 0.9900\n",
      "100/100 [==============================] - 0s 173us/sample - loss: 8.0107e-06 - acc: 1.0000\n",
      "100/100 [==============================] - 0s 175us/sample - loss: 1.0928e-05 - acc: 1.0000\n",
      "100/100 [==============================] - 0s 161us/sample - loss: 1.4976e-05 - acc: 1.0000\n",
      "100/100 [==============================] - 0s 163us/sample - loss: 6.2215e-06 - acc: 1.0000\n",
      "100/100 [==============================] - 0s 154us/sample - loss: 6.5695e-06 - acc: 1.0000\n",
      "100/100 [==============================] - 0s 156us/sample - loss: 8.9498e-06 - acc: 1.0000\n",
      "100/100 [==============================] - 0s 150us/sample - loss: 9.5578e-06 - acc: 1.0000\n",
      "100/100 [==============================] - 0s 174us/sample - loss: 4.7230e-06 - acc: 1.0000\n",
      "100/100 [==============================] - 0s 145us/sample - loss: 6.4825e-06 - acc: 1.0000\n",
      "100/100 [==============================] - 0s 164us/sample - loss: 5.0807e-06 - acc: 1.0000\n",
      "100/100 [==============================] - 0s 164us/sample - loss: 4.8232e-06 - acc: 1.0000\n",
      "100/100 [==============================] - 0s 177us/sample - loss: 6.0021e-06 - acc: 1.0000\n",
      "100/100 [==============================] - 0s 179us/sample - loss: 7.8710e-06 - acc: 1.0000\n",
      "100/100 [==============================] - 0s 168us/sample - loss: 5.6076e-06 - acc: 1.0000\n",
      "100/100 [==============================] - 0s 169us/sample - loss: 6.7733e-06 - acc: 1.0000\n",
      "100/100 [==============================] - 0s 160us/sample - loss: 6.5922e-06 - acc: 1.0000\n",
      "100/100 [==============================] - 0s 163us/sample - loss: 4.5323e-06 - acc: 1.0000\n",
      "100/100 [==============================] - 0s 179us/sample - loss: 5.7899e-06 - acc: 1.0000\n",
      "100/100 [==============================] - 0s 171us/sample - loss: 5.9187e-06 - acc: 1.0000\n",
      "100/100 [==============================] - 0s 157us/sample - loss: 3.8802e-06 - acc: 1.0000\n",
      "100/100 [==============================] - 0s 166us/sample - loss: 3.9542e-06 - acc: 1.0000\n",
      "100/100 [==============================] - 0s 147us/sample - loss: 4.4620e-06 - acc: 1.0000\n",
      "100/100 [==============================] - 0s 187us/sample - loss: 4.4882e-06 - acc: 1.0000\n",
      "100/100 [==============================] - 0s 153us/sample - loss: 5.2058e-06 - acc: 1.0000\n",
      "100/100 [==============================] - 0s 159us/sample - loss: 5.1570e-06 - acc: 1.0000\n",
      "100/100 [==============================] - 0s 168us/sample - loss: 4.5442e-06 - acc: 1.0000\n",
      "100/100 [==============================] - 0s 172us/sample - loss: 5.6386e-06 - acc: 1.0000\n",
      "100/100 [==============================] - 0s 185us/sample - loss: 5.7708e-06 - acc: 1.0000\n",
      "100/100 [==============================] - 0s 173us/sample - loss: 6.4455e-06 - acc: 1.0000\n",
      "100/100 [==============================] - 0s 188us/sample - loss: 5.8233e-06 - acc: 1.0000\n",
      "100/100 [==============================] - 0s 248us/sample - loss: 5.6755e-06 - acc: 1.0000\n",
      "100/100 [==============================] - 0s 194us/sample - loss: 5.9747e-06 - acc: 1.0000\n",
      "100/100 [==============================] - 0s 153us/sample - loss: 7.1680e-06 - acc: 1.0000\n",
      "100/100 [==============================] - 0s 161us/sample - loss: 6.0379e-06 - acc: 1.0000\n",
      "100/100 [==============================] - 0s 190us/sample - loss: 6.5052e-06 - acc: 1.0000\n",
      "100/100 [==============================] - 0s 196us/sample - loss: 8.5496e-06 - acc: 1.0000\n",
      "100/100 [==============================] - 0s 177us/sample - loss: 5.4693e-06 - acc: 1.0000\n",
      "100/100 [==============================] - 0s 163us/sample - loss: 6.5076e-06 - acc: 1.0000\n",
      "100/100 [==============================] - 0s 164us/sample - loss: 8.2432e-06 - acc: 1.0000\n",
      "100/100 [==============================] - 0s 156us/sample - loss: 7.3373e-06 - acc: 1.0000\n",
      "100/100 [==============================] - 0s 180us/sample - loss: 7.8534e-06 - acc: 1.0000\n",
      "100/100 [==============================] - 0s 173us/sample - loss: 7.5208e-06 - acc: 1.0000\n",
      "100/100 [==============================] - 0s 168us/sample - loss: 9.8132e-06 - acc: 1.0000\n",
      "100/100 [==============================] - 0s 173us/sample - loss: 1.0390e-05 - acc: 1.0000\n",
      "100/100 [==============================] - 0s 162us/sample - loss: 9.8167e-06 - acc: 1.0000\n",
      "100/100 [==============================] - 0s 158us/sample - loss: 1.0172e-05 - acc: 1.0000\n",
      "100/100 [==============================] - 0s 151us/sample - loss: 8.4542e-06 - acc: 1.0000\n",
      "100/100 [==============================] - 0s 173us/sample - loss: 1.3014e-05 - acc: 1.0000\n",
      "100/100 [==============================] - 0s 171us/sample - loss: 1.4939e-05 - acc: 1.0000\n",
      "100/100 [==============================] - 0s 164us/sample - loss: 1.4555e-05 - acc: 1.0000\n",
      "100/100 [==============================] - 0s 149us/sample - loss: 1.6653e-05 - acc: 1.0000\n",
      "100/100 [==============================] - 0s 168us/sample - loss: 1.3168e-05 - acc: 1.0000\n",
      "100/100 [==============================] - 0s 155us/sample - loss: 1.9649e-05 - acc: 1.0000\n"
     ]
    },
    {
     "name": "stdout",
     "output_type": "stream",
     "text": [
      "100/100 [==============================] - 0s 170us/sample - loss: 1.7303e-05 - acc: 1.0000\n",
      "100/100 [==============================] - 0s 193us/sample - loss: 2.7787e-05 - acc: 1.0000\n",
      "100/100 [==============================] - 0s 165us/sample - loss: 1.4479e-05 - acc: 1.0000\n",
      "100/100 [==============================] - 0s 153us/sample - loss: 2.0682e-05 - acc: 1.0000\n",
      "100/100 [==============================] - 0s 166us/sample - loss: 2.0871e-05 - acc: 1.0000\n",
      "100/100 [==============================] - 0s 145us/sample - loss: 2.2874e-05 - acc: 1.0000\n",
      "100/100 [==============================] - 0s 178us/sample - loss: 2.8674e-05 - acc: 1.0000\n",
      "100/100 [==============================] - 0s 160us/sample - loss: 2.7048e-05 - acc: 1.0000\n",
      "100/100 [==============================] - 0s 176us/sample - loss: 3.5645e-05 - acc: 1.0000\n",
      "100/100 [==============================] - 0s 182us/sample - loss: 3.4379e-05 - acc: 1.0000\n",
      "100/100 [==============================] - 0s 190us/sample - loss: 4.5217e-05 - acc: 1.0000\n",
      "100/100 [==============================] - 0s 161us/sample - loss: 3.7595e-05 - acc: 1.0000\n",
      "100/100 [==============================] - 0s 166us/sample - loss: 5.5654e-05 - acc: 1.0000\n",
      "100/100 [==============================] - 0s 167us/sample - loss: 6.1136e-05 - acc: 1.0000\n",
      "100/100 [==============================] - 0s 198us/sample - loss: 7.8839e-05 - acc: 1.0000\n",
      "100/100 [==============================] - 0s 163us/sample - loss: 6.0218e-05 - acc: 1.0000\n",
      "100/100 [==============================] - 0s 168us/sample - loss: 1.0253e-04 - acc: 1.0000\n",
      "100/100 [==============================] - 0s 171us/sample - loss: 7.1475e-05 - acc: 1.0000\n",
      "100/100 [==============================] - 0s 190us/sample - loss: 9.4120e-05 - acc: 1.0000\n",
      "100/100 [==============================] - 0s 199us/sample - loss: 1.7965e-04 - acc: 1.0000\n",
      "100/100 [==============================] - 0s 174us/sample - loss: 1.2549e-04 - acc: 1.0000\n",
      "100/100 [==============================] - 0s 189us/sample - loss: 1.6796e-04 - acc: 1.0000\n",
      "100/100 [==============================] - 0s 171us/sample - loss: 1.2638e-04 - acc: 1.0000\n",
      "100/100 [==============================] - 0s 160us/sample - loss: 2.1630e-04 - acc: 1.0000\n",
      "100/100 [==============================] - 0s 176us/sample - loss: 1.5892e-04 - acc: 1.0000\n",
      "100/100 [==============================] - 0s 166us/sample - loss: 2.8983e-04 - acc: 1.0000\n",
      "100/100 [==============================] - 0s 157us/sample - loss: 3.3470e-04 - acc: 1.0000\n",
      "100/100 [==============================] - 0s 167us/sample - loss: 3.1199e-04 - acc: 1.0000\n",
      "100/100 [==============================] - 0s 187us/sample - loss: 3.5932e-04 - acc: 1.0000\n",
      "100/100 [==============================] - 0s 154us/sample - loss: 4.4876e-04 - acc: 1.0000\n",
      "100/100 [==============================] - 0s 163us/sample - loss: 5.8862e-04 - acc: 1.0000\n",
      "100/100 [==============================] - 0s 160us/sample - loss: 5.5323e-04 - acc: 1.0000\n",
      "100/100 [==============================] - 0s 162us/sample - loss: 8.4475e-04 - acc: 1.0000\n",
      "100/100 [==============================] - 0s 188us/sample - loss: 9.3002e-04 - acc: 1.0000\n",
      "100/100 [==============================] - 0s 193us/sample - loss: 0.0011 - acc: 1.0000\n",
      "100/100 [==============================] - 0s 179us/sample - loss: 0.0014 - acc: 1.0000\n",
      "100/100 [==============================] - 0s 174us/sample - loss: 0.0016 - acc: 1.0000\n",
      "100/100 [==============================] - 0s 187us/sample - loss: 0.0019 - acc: 1.0000\n",
      "100/100 [==============================] - 0s 152us/sample - loss: 0.0027 - acc: 1.0000\n",
      "100/100 [==============================] - 0s 189us/sample - loss: 0.0031 - acc: 1.0000\n"
     ]
    }
   ],
   "source": [
    "probability = np.linspace(0.,1.,500)\n",
    "acc = np.zeros(len(probability))\n",
    "for i,v in enumerate(probability):\n",
    "    #test data\n",
    "    test_mat,test_v = writing_data(100,n,v)\n",
    "    test_mat = test_mat.reshape(-1,n,n,1) \n",
    "    #evaluate accuracy\n",
    "    test_loss, test_acc = model.evaluate(test_mat, test_v)\n",
    "    acc[i] = test_acc"
   ]
  },
  {
   "cell_type": "code",
   "execution_count": 81,
   "metadata": {},
   "outputs": [
    {
     "data": {
      "text/plain": [
       "<matplotlib.legend.Legend at 0x7f38e1a00c90>"
      ]
     },
     "execution_count": 81,
     "metadata": {},
     "output_type": "execute_result"
    },
    {
     "data": {
      "image/png": "[encoded data removed]",
      "text/plain": [
       "<Figure size 432x288 with 1 Axes>"
      ]
     },
     "metadata": {
      "needs_background": "light"
     },
     "output_type": "display_data"
    }
   ],
   "source": [
    "from scipy.optimize import curve_fit\n",
    "from scipy import asarray as ar,exp\n",
    "\n",
    "def gaus(x,a,x0,sigma):\n",
    "    return a*exp(-(x-x0)**2/(2*sigma**2))\n",
    "x = probability\n",
    "y = 1 - acc\n",
    "\n",
    "popt,pcov = curve_fit(gaus,x,y, p0=[0.5,0.3,sigma])\n",
    "plt.plot(x,y,'b+:',label='data')\n",
    "plt.plot(x,gaus(x,*popt),'ro:',label='fit')\n",
    "plt.legend()"
   ]
  },
  {
   "cell_type": "code",
   "execution_count": 90,
   "metadata": {},
   "outputs": [
    {
     "name": "stdout",
     "output_type": "stream",
     "text": [
      "Percolation probability:0.49347\n"
     ]
    }
   ],
   "source": [
    "print(\"Percolation probability:%.5f\" % popt[1])"
   ]
  },
  {
   "cell_type": "code",
   "execution_count": null,
   "metadata": {},
   "outputs": [],
   "source": []
  }
 ],
 "metadata": {
  "kernelspec": {
   "display_name": "Python 2",
   "language": "python",
   "name": "python2"
  },
  "language_info": {
   "codemirror_mode": {
    "name": "ipython",
    "version": 2
   },
   "file_extension": ".py",
   "mimetype": "text/x-python",
   "name": "python",
   "nbconvert_exporter": "python",
   "pygments_lexer": "ipython2",
   "version": "2.7.16"
  }
 },
 "nbformat": 4,
 "nbformat_minor": 2
}
